{
 "cells": [
  {
   "cell_type": "code",
   "execution_count": 177,
   "metadata": {
    "collapsed": false
   },
   "outputs": [],
   "source": [
    "from IPython.display import Image\n",
    "import matplotlib\n",
    "import matplotlib.pyplot as plt\n",
    "import matplotlib.mlab as mlab\n",
    "import numpy as np\n",
    "from scipy import linalg\n",
    "from scipy.stats import norm\n",
    "from scipy.stats import multivariate_normal\n",
    "import itertools\n",
    "%matplotlib inline"
   ]
  },
  {
   "cell_type": "markdown",
   "metadata": {},
   "source": [
    "### Stochastic Backpropagation through Mixture Density Distributions\n",
    "#### A Note by Alex Graves (https://arxiv.org/abs/1607.05690)\n",
    "\n",
    "Recent methods for scalable, non-conjugate Bayesian inference have exploited non-centered parametrizations to take derivatives through Monte Carlo expectations.  For example, a sample from the Gaussian distribution $N(x; \\mu_{\\phi},\\sigma_{\\phi}^{2})$ can be drawn via the location-scale form: $$ x = \\mu_{\\phi} + \\sigma_{\\phi} \\epsilon $$ $$ \\text{ where } \\epsilon \\sim N(0,1).$$  Because there is a direct computation path between $x$ and the Gaussian's parameters, the derivatives $\\partial x / \\partial \\mu_{\\phi}$ and $\\partial x / \\partial \\sigma_{\\phi}$ can be computed.  Unfortunately, many distributions, including discrete ones, do not admit such a representation for sampling.  Graves's note discusses how to exploit the multivariate quantile transform to take derivatives through a sample from a mixture density."
   ]
  },
  {
   "cell_type": "markdown",
   "metadata": {},
   "source": [
    "### Example Model\n",
    "\n",
    "Let's demonstrate Graves's method by performing stochastic inference for the following model: $$z \\sim \\sum_{k=1}^{2} \\pi_{k} N(\\mu_{k},\\sigma_{k}^{2})$$ $$ x \\sim N(z,\\sigma_{0}^{2}). $$  That is, we'll have a mixture density prior on the mean parameter of a Normal distribution.  We want to compute its expected negative log likelihood $\\mathcal{L} = \\mathbb{E}_{p(z)}[- \\log p(x|z)]$ (as we would do for EM or VI) and the derivative $\\partial \\mathcal{L} / \\partial \\pi_{k}$. "
   ]
  },
  {
   "cell_type": "markdown",
   "metadata": {},
   "source": [
    "Let's start by defining the necessary pdf's and cdf's..."
   ]
  },
  {
   "cell_type": "code",
   "execution_count": 178,
   "metadata": {
    "collapsed": true
   },
   "outputs": [],
   "source": [
    "# z: latent variable that we draw from mixture of Normals\n",
    "# x: observed variable (data) modeled with a Normal dist.\n",
    "\n",
    "# Component CDF F^k(z)\n",
    "def F_k(z, d, k, mu_arr, cov_arr):\n",
    "    return norm(loc=mu_arr[k][d], scale=np.sqrt(cov_arr[k][d,d])).cdf(z[d])\n",
    "\n",
    "# Component PDF f^k(z)\n",
    "def f_k(z, d, k, mu_arr, cov_arr):\n",
    "    return norm(loc=mu_arr[k][d], scale=np.sqrt(cov_arr[k][d,d])).pdf(z[d])\n",
    "\n",
    "# Mixture PDF f(z)\n",
    "def f(z, d, pi_arr, mu_arr, cov_arr):\n",
    "    p = 0.\n",
    "    for k in xrange(len(mu_s)):\n",
    "        p += pi_arr[k] * norm(loc=mu_arr[k][d], scale=np.sqrt(cov_arr[k][d,d])).pdf(z[d])\n",
    "    return p\n",
    "\n",
    "# d log f / dz, derivative of log of mix. component \n",
    "def dlogf_dz(z, mu, var):\n",
    "    return -(z - mu) / var\n",
    "\n",
    "# -log g(x|z) (loss function)\n",
    "def g(x, z):\n",
    "    return .5*np.sum((x-z)**2)\n",
    "\n",
    "# d -log g(x|z) / dz\n",
    "def dg_dz(x, z):\n",
    "    return z - x\n",
    "\n",
    "# Draw sample from mixture model\n",
    "# k ~ Mult(pi)\n",
    "# z ~ f_k\n",
    "def draw_sample(pi_arr, mu_arr, cov_arr):\n",
    "    k = np.argmax(np.random.multinomial(1, pi_arr))\n",
    "    z = np.random.multivariate_normal(mu_s[k], cov_s[k])\n",
    "    return z"
   ]
  },
  {
   "cell_type": "markdown",
   "metadata": {},
   "source": [
    "Now we can define the full gradient computation..."
   ]
  },
  {
   "cell_type": "code",
   "execution_count": 179,
   "metadata": {
    "collapsed": true
   },
   "outputs": [],
   "source": [
    "def compute_dh_dpi(x, pi, mu_arr, cov_arr, j, N=1):\n",
    "    # x: observed data\n",
    "    # pi: mixture weights\n",
    "    # mu_arr: list of numpy arrays containing component means\n",
    "    # cov_arr: list of numpy arrays containing component covariance matrices\n",
    "    # j: index of mixture weight in derivative, ie dz/d pi_j\n",
    "    # N: number of samples for MC expectation\n",
    "\n",
    "    # assumes 2D, diagonal covariance\n",
    "    # h is the expected loss E[-log pdf]\n",
    "    # g is the loss -log pdf\n",
    "    \n",
    "    dh_dpi_j = 0.\n",
    "\n",
    "    # MC samples loop\n",
    "    for n in xrange(N):\n",
    "\n",
    "        # draw sample\n",
    "        z = draw_sample(pi, mu_arr, cov_arr)\n",
    "\n",
    "        # set p^k_1 vector\n",
    "        p_k = np.array([pi[0], pi[1]])\n",
    "        \n",
    "        # set d log p / d pi_j\n",
    "        dlog_p_dpi = [0., 0] \n",
    "        dlog_p_dpi[j] = 1./p_k[j]\n",
    "        \n",
    "        # set f_1\n",
    "        f_z = [f(z, 0, p_k, mu_arr, cov_arr)]\n",
    "        \n",
    "        # dz/d pi\n",
    "        dz_dpi = [ -F_k(z, 0, j, mu_arr, cov_arr) / f_z[0] ]\n",
    "\n",
    "        # loop over dimensions\n",
    "        for d in xrange(1,len(mu_arr)):\n",
    "            \n",
    "            # compute f_d\n",
    "            f_z.append( f(z, d, p_k, mu_arr, cov_arr) ) \n",
    "    \n",
    "            # compute p^k_d\n",
    "            p_k = p_k * np.array( [f_k(z, d-1, 0, mu_arr, cov_arr), f_k(z, d-1, 1, mu_arr, cov_arr)] ) / f_z[d-1] \n",
    "    \n",
    "            # compute d log p / d pi_j\n",
    "            term2 = np.sum(p_k * dlog_p_dpi)\n",
    "            partial_d_logf = np.array([dlogf_dz(z[d-1], mu_s[0][d-1], cov_s[0][d-1, d-1]), dlogf_dz(z[d-1], mu_s[1][d-1], cov_s[1][d-1, d-1])])\n",
    "            term3 = dz_dpi[d-1] * (partial_d_logf - np.sum( p_k * partial_d_logf ))\n",
    "            dlog_p_dpi = dlog_p_dpi - term2 + term3\n",
    "    \n",
    "            # compute dz/d pi\n",
    "            F_vec = np.array([F_k(z, d, 0, mu_arr, cov_arr), F_k(z, d, 1, mu_arr, cov_arr)])\n",
    "            dz_dpi.append( (-1./f_z[-1]) * np.sum(dlog_p_dpi * p_k * F_vec) )\n",
    "    \n",
    "        dh_dpi_j += np.sum( dg_dz(x, z) * np.array(dz_dpi) )\n",
    "\n",
    "    # normalized by num. of MC samples\n",
    "    dh_dpi_j /= N\n",
    "    \n",
    "    return dh_dpi_j"
   ]
  },
  {
   "cell_type": "markdown",
   "metadata": {},
   "source": [
    "Lastly, we can run an example to see if the weights change accordingly.  First, let's make a function to visualize the mixture.  Plot the (spherical) Gaussians such that their transparency corresponds to the mixture weight."
   ]
  },
  {
   "cell_type": "code",
   "execution_count": 185,
   "metadata": {
    "collapsed": false
   },
   "outputs": [],
   "source": [
    "def plot_mixture(x, pi, mu_arr, cov_arr):\n",
    "    color_iter = itertools.cycle(['r', 'b', 'c', 'g'])\n",
    "    fig = plt.figure(0)\n",
    "    ax = fig.add_subplot(111, aspect='equal')\n",
    "    for i, (weight, mean, covar, color) in enumerate(zip(pi, mu_arr, cov_arr, color_iter)):\n",
    "        e = matplotlib.patches.Ellipse(mean, 5*covar[0,0], 5*covar[1,1], 180)\n",
    "        ax.add_artist(e)\n",
    "        e.set_clip_box(ax.bbox)\n",
    "        e.set_alpha(weight)\n",
    "        e.set_facecolor(color)\n",
    "    ax.scatter([x[0]], [x[1]], s=100, color='k', marker='x', label=\"data\")\n",
    "    ax.set_xlim(-10, 10)\n",
    "    ax.set_ylim(-10, 10)\n",
    "    ax.legend()\n",
    "    plt.show()"
   ]
  },
  {
   "cell_type": "markdown",
   "metadata": {},
   "source": [
    "Define the mixture and one data point $x$..."
   ]
  },
  {
   "cell_type": "code",
   "execution_count": 190,
   "metadata": {
    "collapsed": false
   },
   "outputs": [
    {
     "data": {
      "image/png": "[encoded data removed]",
      "text/plain": [
       "<matplotlib.figure.Figure at 0x1045d1210>"
      ]
     },
     "metadata": {},
     "output_type": "display_data"
    }
   ],
   "source": [
    "# define mixture weights\n",
    "pi = np.array([.95, .05])\n",
    "\n",
    "# define base dists.\n",
    "mu_s = [np.array([-5., -5.]), np.array([5., 5.])]\n",
    "cov_s = [np.array([[1., 0.], [0., 1.]]), np.array([[1., 0.], [0., 1.]])]\n",
    "\n",
    "# data\n",
    "x = np.array([5., 5.])\n",
    "\n",
    "# plot mixture\n",
    "plot_mixture(x, pi, mu_s, cov_s)"
   ]
  },
  {
   "cell_type": "code",
   "execution_count": 191,
   "metadata": {
    "collapsed": false
   },
   "outputs": [
    {
     "name": "stdout",
     "output_type": "stream",
     "text": [
      "Neg. Log Likelihood: 95.4075188787\n",
      "Mix. Weights: [ 0.95  0.05]\n",
      "\n",
      "Neg. Log Likelihood: 97.0661665421\n",
      "Mix. Weights: [ 0.9364266  0.0635734]\n",
      "\n",
      "Neg. Log Likelihood: 91.944410067\n",
      "Mix. Weights: [ 0.91367366  0.08632634]\n",
      "\n",
      "Neg. Log Likelihood: 88.9340407001\n",
      "Mix. Weights: [ 0.87226175  0.12773825]\n",
      "\n",
      "Neg. Log Likelihood: 75.9311758406\n",
      "Mix. Weights: [ 0.85966131  0.14033869]\n",
      "\n",
      "Neg. Log Likelihood: 80.9892030972\n",
      "Mix. Weights: [ 0.8291882  0.1708118]\n",
      "\n",
      "Neg. Log Likelihood: 0.979776396029\n",
      "Mix. Weights: [  5.60362280e-04   9.99439638e-01]\n",
      "\n",
      "Neg. Log Likelihood: 1.03616291851\n",
      "Mix. Weights: [  9.83218733e-05   9.99901678e-01]\n",
      "\n",
      "Neg. Log Likelihood: 1.92696959019\n",
      "Mix. Weights: [ 0.02084581  0.97915419]\n",
      "\n",
      "Neg. Log Likelihood: 1.01813435279\n",
      "Mix. Weights: [  1.00758005e-04   9.99899242e-01]\n",
      "\n",
      "Neg. Log Likelihood: 1.08236583791\n",
      "Mix. Weights: [  8.46042448e-04   9.99153958e-01]\n",
      "\n",
      "Neg. Log Likelihood: 1.0089187026\n",
      "Mix. Weights: [  8.55168825e-05   9.99914483e-01]\n",
      "\n",
      "Neg. Log Likelihood: 0.967300433693\n",
      "Mix. Weights: [  9.41136655e-05   9.99905886e-01]\n",
      "\n",
      "Neg. Log Likelihood: 1.99654624391\n",
      "Mix. Weights: [  9.81498977e-05   9.99901850e-01]\n",
      "\n",
      "Neg. Log Likelihood: 1.96607600134\n",
      "Mix. Weights: [ 0.00709362  0.99290638]\n",
      "\n",
      "Neg. Log Likelihood: 0.950680592015\n",
      "Mix. Weights: [  9.65584282e-05   9.99903442e-01]\n",
      "\n",
      "Neg. Log Likelihood: 2.09992066081\n",
      "Mix. Weights: [ 0.03274968  0.96725032]\n",
      "\n",
      "Neg. Log Likelihood: 1.1416121806\n",
      "Mix. Weights: [  1.00792691e-04   9.99899207e-01]\n",
      "\n",
      "Neg. Log Likelihood: 1.07522054554\n",
      "Mix. Weights: [ 0.00182632  0.99817368]\n",
      "\n",
      "Neg. Log Likelihood: 2.27515754849\n",
      "Mix. Weights: [ 0.01110451  0.98889549]\n",
      "\n"
     ]
    },
    {
     "data": {
      "image/png": "[encoded data removed]",
      "text/plain": [
       "<matplotlib.figure.Figure at 0x104c97710>"
      ]
     },
     "metadata": {},
     "output_type": "display_data"
    }
   ],
   "source": [
    "# constrain pi's to be a proper mixture\n",
    "def constrain_pi(pi):\n",
    "    if pi[0] <= 0:\n",
    "        pi[0] = 0.0001\n",
    "    if pi[1] <= 0:\n",
    "        pi[1] = 0.0001\n",
    "    \n",
    "    # re-normalize\n",
    "    pi /= np.sum(pi)\n",
    "    \n",
    "    return pi\n",
    "\n",
    "# run SGD on the pi's \n",
    "epochs = 20\n",
    "for idx in xrange(epochs):\n",
    "    \n",
    "    mc_loss = 0.\n",
    "    M = 100\n",
    "    for i in xrange(M):\n",
    "        z = draw_sample(pi, mu_s, cov_s)\n",
    "        mc_loss += g(x, z)\n",
    "    print \"Neg. Log Likelihood: \"+str(mc_loss/M)\n",
    "    print \"Mix. Weights: \"+str(pi)\n",
    "    \n",
    "    #update\n",
    "    pi[0] -= .005 * compute_dh_dpi(x, pi=pi, mu_arr=mu_s, cov_arr=cov_s, j=0, N=100)\n",
    "    constrain_pi(pi=pi)\n",
    "    pi[1] -= .005 * compute_dh_dpi(x, pi=pi, mu_arr=mu_s, cov_arr=cov_s, j=1, N=100)\n",
    "    constrain_pi(pi=pi)\n",
    "    \n",
    "    print\n",
    "    \n",
    "# and plot the mixture again\n",
    "plot_mixture(x, pi, mu_s, cov_s)"
   ]
  },
  {
   "cell_type": "code",
   "execution_count": null,
   "metadata": {
    "collapsed": true
   },
   "outputs": [],
   "source": []
  }
 ],
 "metadata": {
  "kernelspec": {
   "display_name": "Python 2",
   "language": "python",
   "name": "python2"
  },
  "language_info": {
   "codemirror_mode": {
    "name": "ipython",
    "version": 2
   },
   "file_extension": ".py",
   "mimetype": "text/x-python",
   "name": "python",
   "nbconvert_exporter": "python",
   "pygments_lexer": "ipython2",
   "version": "2.7.11"
  }
 },
 "nbformat": 4,
 "nbformat_minor": 1
}

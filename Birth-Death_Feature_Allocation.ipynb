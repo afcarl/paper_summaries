{
 "cells": [
  {
   "cell_type": "code",
   "execution_count": 1,
   "metadata": {
    "collapsed": false
   },
   "outputs": [],
   "source": [
    "from IPython.display import Image\n",
    "import itertools\n",
    "\n",
    "import numpy as np\n",
    "import tensorflow as tf\n",
    "\n",
    "import matplotlib\n",
    "import matplotlib.pyplot as plt\n",
    "import matplotlib.mlab as mlab\n",
    "%matplotlib inline"
   ]
  },
  {
   "cell_type": "markdown",
   "metadata": {},
   "source": [
    "## A Birth-Death Process for Feature Allocation\n",
    "\n",
    "This notebook outlines the paper [A Birth-Death Process for Feature Allocation](http://proceedings.mlr.press/v70/palla17a/palla17a.pdf), by K. Palla, D. Knowles, and Z. Ghahramani, which extends the [Indian buffet process](https://en.wikipedia.org/wiki/Indian_buffet_process) to sequential data.\n",
    "\n",
    "### 1.  The Indian Buffet Process\n",
    "\n",
    "The [Indian buffet process](https://en.wikipedia.org/wiki/Indian_buffet_process) (IBP) describes a latent feature process in which an observation $\\mathbf{x}_{i}$ is associated with an unbounded binary vector $\\mathbf{z}_{i}$.  Each element in $\\mathbf{z}_{i}$ represents a binary feature such that $z_{i,k}=1$ if $\\mathbf{x}_{i}$ exhibits the $k$th latent feature.  The IBP can be constructed from a Beta-Bernoulli process via two stages of sampling.  The first stage samples $B = \\sum_{k=1}^{\\infty} \\omega_{k} \\delta_{\\theta_{k}}$ and the second samples features according to the weights, i.e. $z_{k} \\sim \\text{Bernoulli}(\\omega_{k})$.\n",
    "\n",
    "\n",
    "### 2.  A Birth-Death Process for Feature Allocation\n",
    "\n",
    "Palla et al. define their dynamic extension to the IBP by considering a continuous-time Markov jump process over all possible $N \\times K$ feature allocations.  Jumps correspond to features being 'born' and 'dying.'  The process can be represented by the following finite model, termed the *Beta Event Process* (BEP): $$ \\mid \\mathcal{F} \\mid \\sim \\text{Poisson}(KT), $$ $$ \\omega_{k} \\sim \\text{Beta}(R/K, 1), \\ \\  t_{b}^{k} \\sim \\text{Uniform}(0, T), \\ \\ t_{\\omega}^{k} \\sim \\text{Exponential}(D)$$ for $k=1,\\ldots, \\mid \\mathcal{F} \\mid$ features.  $\\omega_{k}$ is, again, the probability of sampling feature $k$, $t_{b}^{k}$ is the birth time of feature $k$, and $t_{d}^{k} = t_{b}^{k} + t_{\\omega}^{k}$ is the $k$th feature's death time.  Once a sample from the BEP is drawn, the dynamic feature matrix can be constructed as follows: $$ s_{i,k} \\sim \\text{Bernoulli}(\\omega_{k}), \\ \\ \\ z_{i,k}(t) = s_{i,k} \\mathbb{I}[t_{b}^{k} < t < t_{d}^{k}].$$  Notice that the feature matrix $z_{i,k}(t)$ can be constructed deterministically from the global matrix $\\mathbf{s}$ and the birth/death times for feature $k$.    "
   ]
  },
  {
   "cell_type": "markdown",
   "metadata": {},
   "source": [
    "### 3.  Neural Variational Inference for the BEP\n",
    "\n",
    "It is interesting to consider if neural variational inference could be applied to the BEP.  Contruction of the $\\mathbf{s}$ vector is easy, essentially following [Singh et al.'s (2017)](http://approximateinference.org/2017/accepted/SinghEtAl2017.pdf) approach.  Inference for the birth/death times is the challenging part.  One approach is to model only the feature duration $t_{\\omega}^{k}$, which can be done using an initiation signal and an exponential clock.  Concretely, we can parametrize a sample from the feature matrix as $$ \\hat{z}_{i,k}(t) = s_{i,k} \\  \\pi_{i,k} \\ \\mathbb{I}[\\sum_{j} \\hat{t} < D] $$"
   ]
  },
  {
   "cell_type": "code",
   "execution_count": 23,
   "metadata": {
    "collapsed": false
   },
   "outputs": [],
   "source": [
    "# Gaussian\n",
    "def log_normal_pdf(x, mu, sigma):\n",
    "    d = mu - x\n",
    "    d2 = tf.mul(-1., tf.mul(d,d))\n",
    "    s2 = tf.mul(2., tf.mul(sigma,sigma))\n",
    "    return tf.reduce_sum(tf.div(d2,s2) - tf.log(tf.mul(sigma, 2.506628)))\n",
    "\n",
    "# Gaussian Mixture\n",
    "def log_gaussMix_pdf(z, pi, mu, sigma, K):\n",
    "    s = tf.mul(pi[0], tf.exp(log_normal_pdf(z, mu[0], sigma[0])))\n",
    "    for k in xrange(K-1):\n",
    "        s += tf.mul(pi[k+1], tf.exp(log_normal_pdf(z, mu[k+1], sigma[k+1])))\n",
    "    return tf.log(s)"
   ]
  },
  {
   "cell_type": "markdown",
   "metadata": {},
   "source": [
    "And plot it..."
   ]
  },
  {
   "cell_type": "code",
   "execution_count": 24,
   "metadata": {
    "collapsed": false
   },
   "outputs": [
    {
     "data": {
      "image/png": "[encoded data removed]",
      "text/plain": [
       "<matplotlib.figure.Figure at 0x14ef81f90>"
      ]
     },
     "metadata": {},
     "output_type": "display_data"
    }
   ],
   "source": [
    "#'true' posterior params\n",
    "mu_post = [-4., 3.]\n",
    "sigma_post = [1., 3.]\n",
    "pi_post = [.3, .7]\n",
    "\n",
    "Z = tf.placeholder(tf.float32, shape=(), name=\"init\")\n",
    "log_prob_z = log_gaussMix_pdf(Z, pi_post, mu_post, sigma_post, 2)\n",
    "\n",
    "# get posterior probabilities\n",
    "z_grid = np.linspace(-10., 10., 1000).astype('float32')\n",
    "with tf.Session() as session:\n",
    "    probs_true = np.exp([session.run(log_prob_z, {Z: z}) for z in z_grid])\n",
    "\n",
    "plt.figure()\n",
    "\n",
    "plt.plot(z_grid, probs_true, 'b-', linewidth=5, label=\"True Posterior\")\n",
    "\n",
    "plt.xlabel(\"Z\")\n",
    "plt.xlim([-10,10])\n",
    "plt.ylim([0,.25])\n",
    "plt.legend()\n",
    "\n",
    "plt.show()"
   ]
  },
  {
   "cell_type": "markdown",
   "metadata": {},
   "source": [
    "Now let's define our adaptive inference RNN, starting with the recurrent component..."
   ]
  },
  {
   "cell_type": "code",
   "execution_count": 86,
   "metadata": {
    "collapsed": false
   },
   "outputs": [],
   "source": [
    "# define dimensionality of model components\n",
    "input_d = 1\n",
    "rnn_hidden_d = 5\n",
    "z_space_d = 1\n",
    "\n",
    "max_n_loops = 10\n",
    "\n",
    "# init data variable\n",
    "X = tf.placeholder(\"float\", [None, input_d])\n",
    "\n",
    "# init RNN params\n",
    "params = {'h':{'W':tf.Variable(tf.random_normal([input_d, rnn_hidden_d], stddev=.001)),\n",
    "               'U':tf.Variable(tf.random_normal([rnn_hidden_d, rnn_hidden_d], stddev=.001)),\n",
    "               'b':tf.Variable(tf.zeros([rnn_hidden_d,]))\n",
    "              },\n",
    "          'mu':{'W':tf.Variable(tf.random_normal([rnn_hidden_d, z_space_d], stddev=.001)),\n",
    "               'b':tf.Variable(tf.zeros([z_space_d,]))\n",
    "              },\n",
    "          'sigma':{'W':tf.Variable(tf.random_normal([rnn_hidden_d, z_space_d], stddev=.001)),\n",
    "               'b':tf.Variable(tf.zeros([z_space_d,]))\n",
    "              },\n",
    "          'pi':{'W':tf.Variable(tf.random_normal([rnn_hidden_d, 1], stddev=.001) - .3),\n",
    "               'b':tf.Variable(tf.zeros([1,]))\n",
    "              }\n",
    "        }\n",
    "\n",
    "\n",
    "### DEFINE RNN LOOP ###\n",
    "def prop_RNN(hidden_state):\n",
    "\n",
    "    # Defines an Elman network\n",
    "    # TODO: define LSTM cell\n",
    "    hidden_state = \\\n",
    "    tf.nn.relu(tf.matmul(X, params['h']['W']) + tf.matmul(hidden_state, params['h']['U']) + params['h']['b'])\n",
    "    \n",
    "    return hidden_state\n",
    "\n",
    "hidden_states = [tf.zeros([tf.shape(X)[0], rnn_hidden_d])]\n",
    "\n",
    "for loop_idx in range(max_n_loops):\n",
    "    hidden_states.append( prop_RNN(hidden_states[-1]) )\n",
    "    \n",
    "# remove inital state\n",
    "hidden_states = hidden_states[1:]"
   ]
  },
  {
   "cell_type": "markdown",
   "metadata": {},
   "source": [
    "Next we take the hidden states and determine how many components to compute..."
   ]
  },
  {
   "cell_type": "code",
   "execution_count": 87,
   "metadata": {
    "collapsed": false
   },
   "outputs": [],
   "source": [
    "pis = []\n",
    "mus = []\n",
    "sigmas = []\n",
    "remaining_stick = 1.\n",
    "\n",
    "stick_eps = .01\n",
    "for idx in range(max_n_loops-1):\n",
    "    \n",
    "    # compute component params\n",
    "    mus.append(tf.matmul(hidden_states[idx], params['mu']['W']) + params['mu']['b'])\n",
    "    sigmas.append(tf.nn.softplus(tf.matmul(hidden_states[idx], params['sigma']['W']) + params['sigma']['b']))\n",
    "    \n",
    "    # compute component weights\n",
    "    gamma = tf.nn.sigmoid(tf.matmul(hidden_states[idx], params['pi']['W']) + params['pi']['b'])\n",
    "    \n",
    "    length_check = tf.reduce_max((1.-gamma)*remaining_stick)\n",
    "    gamma = tf.cond( length_check < stick_eps, lambda: 0.*gamma + 1., lambda: gamma ) \n",
    "    \n",
    "    pis.append(gamma * remaining_stick)\n",
    "    remaining_stick = (1.-gamma)*remaining_stick\n",
    "    \n",
    "# perform last iteration with pi set to remaining stick\n",
    "mus.append(tf.matmul(hidden_states[-1], params['mu']['W']) + params['mu']['b'])\n",
    "sigmas.append(tf.nn.softplus(tf.matmul(hidden_states[-1], params['sigma']['W']) + params['sigma']['b']))\n",
    "pis.append(remaining_stick)"
   ]
  },
  {
   "cell_type": "markdown",
   "metadata": {},
   "source": [
    "Now let's define our optimization function..."
   ]
  },
  {
   "cell_type": "code",
   "execution_count": 88,
   "metadata": {
    "collapsed": false
   },
   "outputs": [],
   "source": [
    "regularization_weight = tf.placeholder(tf.float32, shape=(), name=\"regWeight\")\n",
    "\n",
    "# data term: \\sum_k \\pi_k E[log p(x,z)]\n",
    "expected_ll = 0.\n",
    "pi_sum_tracker = 0.\n",
    "for k in range(max_n_loops):\n",
    "    z_sample = mus[k] + sigmas[k] * tf.random_normal(shape=[tf.shape(X)[0], z_space_d])\n",
    "    expected_ll += pis[k] * log_gaussMix_pdf(z_sample, pi_post, mu_post, sigma_post, 2)\n",
    "    \n",
    "# entropy lower bound term : -\\sum_k pi_k log \\sum_j pi_j N(mu_k; mu_j, sigma_k**2 + sigma_j**2)\n",
    "ent_lb_term = 0.\n",
    "for k in range(max_n_loops):\n",
    "    temp_val = 0.\n",
    "    for j in range(max_n_loops):\n",
    "        temp_val += pis[j] * tf.exp(log_normal_pdf(mus[k], mus[j], tf.sqrt(sigmas[k]**2 + sigmas[j]**2)))\n",
    "    ent_lb_term += -pis[k] * tf.log(temp_val + .0001)\n",
    "    \n",
    "# entropy of mixture weights\n",
    "ent_mix_weights = 0.\n",
    "for k in range(max_n_loops):\n",
    "    ent_mix_weights += -pis[k] * tf.log(pis[k] + .001)\n",
    "    \n",
    "# final objective\n",
    "objective_fn = tf.reduce_mean(expected_ll + ent_lb_term - regularization_weight * ent_mix_weights)\n",
    "\n",
    "# collect parameters\n",
    "final_pis = tf.concat(2, [tf.expand_dims(t, 2) for t in pis])\n",
    "final_mus = tf.concat(2, [tf.expand_dims(t, 2) for t in mus])\n",
    "final_sigmas = tf.concat(2, [tf.expand_dims(t, 2) for t in sigmas])"
   ]
  },
  {
   "cell_type": "markdown",
   "metadata": {},
   "source": [
    "Lastly, let's train our dynamic RNN approximation..."
   ]
  },
  {
   "cell_type": "code",
   "execution_count": 90,
   "metadata": {
    "collapsed": false
   },
   "outputs": [
    {
     "name": "stdout",
     "output_type": "stream",
     "text": [
      "Epoch 10.  VI Objective: -8.537\n",
      "Epoch 20.  VI Objective: -8.448\n",
      "Epoch 30.  VI Objective: -8.037\n",
      "Epoch 40.  VI Objective: -7.563\n",
      "Epoch 50.  VI Objective: -7.122\n",
      "Epoch 60.  VI Objective: -5.757\n",
      "Epoch 70.  VI Objective: -5.647\n",
      "Epoch 80.  VI Objective: -4.885\n",
      "Epoch 90.  VI Objective: -4.707\n",
      "Epoch 100.  VI Objective: -4.181\n",
      "Epoch 110.  VI Objective: -3.786\n",
      "Epoch 120.  VI Objective: -3.577\n",
      "Epoch 130.  VI Objective: -3.371\n",
      "Epoch 140.  VI Objective: -3.603\n",
      "Epoch 150.  VI Objective: -3.220\n",
      "Epoch 160.  VI Objective: -3.152\n",
      "Epoch 170.  VI Objective: -3.186\n",
      "Epoch 180.  VI Objective: -3.150\n",
      "Epoch 190.  VI Objective: -2.910\n",
      "Epoch 200.  VI Objective: -3.096\n",
      "Epoch 210.  VI Objective: -2.973\n",
      "Epoch 220.  VI Objective: -3.064\n",
      "Epoch 230.  VI Objective: -2.960\n",
      "Epoch 240.  VI Objective: -3.500\n",
      "Epoch 250.  VI Objective: -3.151\n",
      "Epoch 260.  VI Objective: -2.912\n",
      "Epoch 270.  VI Objective: -3.154\n",
      "Epoch 280.  VI Objective: -2.821\n",
      "Epoch 290.  VI Objective: -2.981\n",
      "Epoch 300.  VI Objective: -2.903\n",
      "Epoch 310.  VI Objective: -3.151\n",
      "Epoch 320.  VI Objective: -2.849\n",
      "Epoch 330.  VI Objective: -2.993\n",
      "Epoch 340.  VI Objective: -2.505\n",
      "Epoch 350.  VI Objective: -2.873\n",
      "Epoch 360.  VI Objective: -2.720\n",
      "Epoch 370.  VI Objective: -2.574\n",
      "Epoch 380.  VI Objective: -2.944\n",
      "Epoch 390.  VI Objective: -2.699\n",
      "Epoch 400.  VI Objective: -2.785\n",
      "Epoch 410.  VI Objective: -3.235\n",
      "Epoch 420.  VI Objective: -3.181\n",
      "Epoch 430.  VI Objective: -3.105\n",
      "Epoch 440.  VI Objective: -3.009\n",
      "Epoch 450.  VI Objective: -3.082\n",
      "Epoch 460.  VI Objective: -2.830\n",
      "Epoch 470.  VI Objective: -3.105\n",
      "Epoch 480.  VI Objective: -2.805\n",
      "Epoch 490.  VI Objective: -2.932\n",
      "Epoch 500.  VI Objective: -2.776\n",
      "Epoch 510.  VI Objective: -3.183\n",
      "Epoch 520.  VI Objective: -2.828\n",
      "Epoch 530.  VI Objective: -2.859\n",
      "Epoch 540.  VI Objective: -3.024\n",
      "Epoch 550.  VI Objective: -2.615\n",
      "Epoch 560.  VI Objective: -2.830\n",
      "Epoch 570.  VI Objective: -2.975\n",
      "Epoch 580.  VI Objective: -2.954\n",
      "Epoch 590.  VI Objective: -2.539\n",
      "Epoch 600.  VI Objective: -2.958\n",
      "Epoch 610.  VI Objective: -2.791\n",
      "Epoch 620.  VI Objective: -2.965\n",
      "Epoch 630.  VI Objective: -3.267\n",
      "Epoch 640.  VI Objective: -2.729\n",
      "Epoch 650.  VI Objective: -2.777\n",
      "Epoch 660.  VI Objective: -2.581\n",
      "Epoch 670.  VI Objective: -3.273\n",
      "Epoch 680.  VI Objective: -2.805\n",
      "Epoch 690.  VI Objective: -2.952\n",
      "Epoch 700.  VI Objective: -2.697\n",
      "Epoch 710.  VI Objective: -2.903\n",
      "Epoch 720.  VI Objective: -2.597\n",
      "Epoch 730.  VI Objective: -2.880\n",
      "Epoch 740.  VI Objective: -2.655\n",
      "Epoch 750.  VI Objective: -3.131\n",
      "Epoch 760.  VI Objective: -2.694\n",
      "Epoch 770.  VI Objective: -2.621\n",
      "Epoch 780.  VI Objective: -2.794\n",
      "Epoch 790.  VI Objective: -3.016\n",
      "Epoch 800.  VI Objective: -2.787\n",
      "Epoch 810.  VI Objective: -2.658\n",
      "Epoch 820.  VI Objective: -2.515\n",
      "Epoch 830.  VI Objective: -3.045\n",
      "Epoch 840.  VI Objective: -2.790\n",
      "Epoch 850.  VI Objective: -2.723\n",
      "Epoch 860.  VI Objective: -3.037\n",
      "Epoch 870.  VI Objective: -3.076\n",
      "Epoch 880.  VI Objective: -2.786\n",
      "Epoch 890.  VI Objective: -2.775\n",
      "Epoch 900.  VI Objective: -2.775\n",
      "Epoch 910.  VI Objective: -3.052\n",
      "Epoch 920.  VI Objective: -3.128\n",
      "Epoch 930.  VI Objective: -2.709\n",
      "Epoch 940.  VI Objective: -2.796\n",
      "Epoch 950.  VI Objective: -2.795\n",
      "Epoch 960.  VI Objective: -3.072\n",
      "Epoch 970.  VI Objective: -2.868\n",
      "Epoch 980.  VI Objective: -3.169\n",
      "Epoch 990.  VI Objective: -2.627\n",
      "Epoch 1000.  VI Objective: -2.645\n",
      "Epoch 1010.  VI Objective: -3.055\n",
      "Epoch 1020.  VI Objective: -3.094\n",
      "Epoch 1030.  VI Objective: -2.936\n",
      "Epoch 1040.  VI Objective: -2.904\n",
      "Epoch 1050.  VI Objective: -2.839\n",
      "Epoch 1060.  VI Objective: -2.683\n",
      "Epoch 1070.  VI Objective: -2.709\n",
      "Epoch 1080.  VI Objective: -2.667\n",
      "Epoch 1090.  VI Objective: -2.758\n",
      "Epoch 1100.  VI Objective: -2.882\n",
      "Epoch 1110.  VI Objective: -2.628\n",
      "Epoch 1120.  VI Objective: -3.118\n",
      "Epoch 1130.  VI Objective: -2.644\n",
      "Epoch 1140.  VI Objective: -2.784\n",
      "Epoch 1150.  VI Objective: -2.697\n",
      "Epoch 1160.  VI Objective: -3.210\n",
      "Epoch 1170.  VI Objective: -2.569\n",
      "Epoch 1180.  VI Objective: -2.878\n",
      "Epoch 1190.  VI Objective: -2.586\n",
      "Epoch 1200.  VI Objective: -2.460\n",
      "Epoch 1210.  VI Objective: -3.068\n",
      "Epoch 1220.  VI Objective: -3.023\n",
      "Epoch 1230.  VI Objective: -2.662\n",
      "Epoch 1240.  VI Objective: -2.675\n",
      "Epoch 1250.  VI Objective: -2.516\n",
      "Epoch 1260.  VI Objective: -3.082\n",
      "Epoch 1270.  VI Objective: -2.601\n",
      "Epoch 1280.  VI Objective: -2.556\n",
      "Epoch 1290.  VI Objective: -3.214\n",
      "Epoch 1300.  VI Objective: -3.443\n",
      "Epoch 1310.  VI Objective: -2.649\n",
      "Epoch 1320.  VI Objective: -2.616\n",
      "Epoch 1330.  VI Objective: -2.634\n",
      "Epoch 1340.  VI Objective: -2.750\n",
      "Epoch 1350.  VI Objective: -2.721\n",
      "Epoch 1360.  VI Objective: -2.480\n",
      "Epoch 1370.  VI Objective: -2.781\n",
      "Epoch 1380.  VI Objective: -2.782\n",
      "Epoch 1390.  VI Objective: -2.563\n",
      "Epoch 1400.  VI Objective: -2.861\n",
      "Epoch 1410.  VI Objective: -3.150\n",
      "Epoch 1420.  VI Objective: -2.797\n",
      "Epoch 1430.  VI Objective: -3.055\n",
      "Epoch 1440.  VI Objective: -3.088\n",
      "Epoch 1450.  VI Objective: -2.756\n",
      "Epoch 1460.  VI Objective: -2.948\n",
      "Epoch 1470.  VI Objective: -2.482\n",
      "Epoch 1480.  VI Objective: -2.734\n",
      "Epoch 1490.  VI Objective: -3.051\n",
      "Epoch 1500.  VI Objective: -3.101\n"
     ]
    }
   ],
   "source": [
    "# Set training params\n",
    "n_epochs = 1500\n",
    "learning_rate = .003\n",
    "\n",
    "# get the training operator\n",
    "train_model = tf.train.AdamOptimizer(learning_rate).minimize(-objective_fn, \\\n",
    "                    var_list=[params['h']['W'], params['h']['U'], params['h']['b'], \n",
    "                     params['mu']['W'], params['mu']['b'],\n",
    "                      params['sigma']['W'], params['sigma']['b'],\n",
    "                      params['pi']['W'], params['pi']['b']])\n",
    "\n",
    "reg_weights = np.linspace(0., .99, int(n_epochs * .85)).astype('float32').tolist()\n",
    "\n",
    "with tf.Session() as session:\n",
    "    tf.initialize_all_variables().run()\n",
    "    \n",
    "    obj_tracker = 0.\n",
    "    for epoch_idx in xrange(n_epochs):\n",
    "        \n",
    "        # perform update\n",
    "        if epoch_idx < len(reg_weights): w = reg_weights[epoch_idx]\n",
    "        else: w = reg_weights[-1]\n",
    "            \n",
    "        _, obj = session.run([train_model, objective_fn], feed_dict={X: np.random.normal(scale=1.5, size=(5,1)), regularization_weight:w})\n",
    "        obj_tracker += obj\n",
    "    \n",
    "        if (epoch_idx+1) % 10 == 0:\n",
    "            print \"Epoch %d.  VI Objective: %.3f\" %(epoch_idx+1, obj_tracker/10)\n",
    "            obj_tracker = 0.\n",
    "\n",
    "    m, s, p = session.run([final_mus, final_sigmas, final_pis], feed_dict={X: np.ones((5,1))})"
   ]
  },
  {
   "cell_type": "markdown",
   "metadata": {},
   "source": [
    "The first axis just holds a fake mini-batch. Just throw it away..."
   ]
  },
  {
   "cell_type": "code",
   "execution_count": 91,
   "metadata": {
    "collapsed": false
   },
   "outputs": [
    {
     "name": "stdout",
     "output_type": "stream",
     "text": [
      "Mu: [[ 1.45938182  2.00045443  2.26869678  2.40168095  2.46760941  2.50029421\n",
      "   2.51649809  2.52453136  2.52851391  2.53048801]]\n",
      "Sigma: [[ 1.29975712  1.52779758  1.64672446  1.70699334  1.73717713  1.75221407\n",
      "   1.75968647  1.76339531  1.76523507  1.76614738]]\n",
      "Pis: [[  2.03227485e-03   1.61816744e-04   4.61592426e-05   2.47847638e-05\n",
      "    1.82091826e-05   1.56281312e-05   1.44875357e-05   1.39532076e-05\n",
      "    1.36955960e-05   9.97659147e-01]]\n",
      "\n",
      "1.0\n",
      "(1, 10)\n"
     ]
    }
   ],
   "source": [
    "m, s, p = m[0, :, :], s[0, :, :], p[0, :, :]\n",
    "\n",
    "print \"Mu: \"+str(m)\n",
    "print \"Sigma: \"+str(s)\n",
    "print \"Pis: \"+str(p)\n",
    "\n",
    "print\n",
    "print np.sum(p)\n",
    "print m.shape"
   ]
  },
  {
   "cell_type": "markdown",
   "metadata": {},
   "source": [
    "Let's visualize the approximation..."
   ]
  },
  {
   "cell_type": "code",
   "execution_count": 92,
   "metadata": {
    "collapsed": false
   },
   "outputs": [
    {
     "data": {
      "image/png": "[encoded data removed]",
      "text/plain": [
       "<matplotlib.figure.Figure at 0x225e56090>"
      ]
     },
     "metadata": {},
     "output_type": "display_data"
    }
   ],
   "source": [
    "from scipy.stats import norm\n",
    "\n",
    "probs_approx = [np.sum([p[0,k] * norm.pdf(z, loc=m[0, k], scale=s[0,k]) for k in range(max_n_loops)]) for z in z_grid]\n",
    "\n",
    "plt.figure()\n",
    "\n",
    "plt.plot(z_grid, probs_true, 'b-', linewidth=5, label=\"True Posterior\")\n",
    "plt.plot(z_grid, probs_approx, 'r-', linewidth=5, label=\"Approximation\")\n",
    "\n",
    "plt.xlabel(\"Z\")\n",
    "plt.xlim([-10,10])\n",
    "plt.ylim([0,.25])\n",
    "plt.legend()\n",
    "\n",
    "plt.show()"
   ]
  }
 ],
 "metadata": {
  "kernelspec": {
   "display_name": "Python 2",
   "language": "python",
   "name": "python2"
  },
  "language_info": {
   "codemirror_mode": {
    "name": "ipython",
    "version": 2
   },
   "file_extension": ".py",
   "mimetype": "text/x-python",
   "name": "python",
   "nbconvert_exporter": "python",
   "pygments_lexer": "ipython2",
   "version": "2.7.11"
  }
 },
 "nbformat": 4,
 "nbformat_minor": 1
}

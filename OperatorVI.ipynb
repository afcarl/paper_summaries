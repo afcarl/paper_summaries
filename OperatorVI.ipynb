{
 "cells": [
  {
   "cell_type": "code",
   "execution_count": 2,
   "metadata": {
    "collapsed": false
   },
   "outputs": [],
   "source": [
    "from IPython.display import Image\n",
    "import itertools\n",
    "\n",
    "import matplotlib\n",
    "import matplotlib.pyplot as plt\n",
    "import matplotlib.mlab as mlab\n",
    "\n",
    "import autograd.numpy as np\n",
    "import autograd.numpy.random as npr\n",
    "from autograd import grad\n",
    "\n",
    "%matplotlib inline"
   ]
  },
  {
   "cell_type": "markdown",
   "metadata": {},
   "source": [
    "# Operator Variational Inference\n",
    "### by R. Ranganath, J. Altosaar, D. Tran, and D. Blei (https://arxiv.org/abs/1610.09033)\n",
    "\n",
    "Variational inference (VI) refers to the task of optimizing the parameters of a distribution such that it approximates an intractable one well.  Because Bayesian posteriors are intractable in all but the simplest cases, VI is usually employed for Bayesian models as a scalable alternative to MCMC.  The optimization objective is usually chosen as the KL-Divergence from the approximate distribution to the intractable one (although there are less-popular alternatives): $$KLD[q(\\theta) \\mid \\mid p(\\theta|\\mathcal{D})] = \\int_{\\theta} q(\\theta) [\\log q(\\theta) - \\log p(\\theta|\\mathcal{D})] d\\theta = \\int_{\\theta} q(\\theta) [\\log q(\\theta) - \\log p(\\mathcal{D}, \\theta)] d\\theta + \\log p(\\mathcal{D}).$$  Rearranging the above to put the model evidence on the LHS, we have $$\\log p(\\mathcal{D}) = \\int_{\\theta} q(\\theta) [\\log p(\\mathcal{D},\\theta) - \\log q(\\theta)] d\\theta + KLD[q(\\theta) \\mid \\mid p(\\theta|\\mathcal{D})] \\ge \\mathbb{E}_{q} [\\log p(\\mathcal{D}, \\theta) - \\log q(\\theta)] = \\mathcal{L}_{VI}.$$  $\\mathcal{L}_{VI}$ is known as the *Evidence Lowerbound*, and it comes about by dropping the $KLD[q(\\theta) \\mid \\mid p(\\theta | \\mathcal{D})]$ term, which we know is strictly non-negative.  Notice that the bound becomes tight when $q(\\theta)=p(\\theta | \\mathcal{D})$."
   ]
  },
  {
   "cell_type": "markdown",
   "metadata": {},
   "source": [
    "### Operator Variational Inference\n",
    "\n",
    "The usual approaches to VI (based on KLD and the evidence lowerbound above) hinge upon choosing a parametric form for the approximate posterior $q$.  Ranganath et al. argues that there are benefits to be had if we broaden our perspective of VI to think of it just as mapping one function to another---i.e. applying an *operator* $\\mathcal{O}^{p,q}$.  There are three components to their Operator VI (OVI) framework:\n",
    "* An operator $\\mathcal{O}^{p,q}$ that depends on $q$ and $p(\\theta | \\mathcal{D})$.\n",
    "* A family of test functions $f \\in \\mathcal{F}$ such that $f: \\Theta \\mapsto \\mathbb{R}^d$.\n",
    "* A distance function $t: \\mathbb{R} \\mapsto [0,\\infty)$.\n",
    "\n",
    "These components are combined to form the following OVI objective: $$\\mathcal{L}_{OVI} = \\sup_{f \\in\\mathcal{F}} t(\\mathbb{E}_{q} [ (\\mathcal{O}^{p,q} f)(\\theta) ]), $$ which we desire to equal zero when $p(\\theta | \\mathcal{D})=q(\\theta)$.  "
   ]
  },
  {
   "cell_type": "markdown",
   "metadata": {},
   "source": [
    "### The Langevin-Stein Operator\n",
    "\n",
    "Ranganath et al. next propose a concrete example of an operator: $(\\mathcal{O}^{p,q} f)(\\theta) = \\nabla_{\\theta} \\log p(x, \\theta)^{T}f(\\theta) + \\nabla f(\\theta),$ the *Barbour generator* combined with *Langevin diffusion*.  Choosing $t(y) = y^{2}$ then gives the OVI objective: $$ \\mathcal{L}^{LS}_{OVI} = \\sup_{f \\in\\mathcal{F}} (\\mathbb{E}_{q} [ \\nabla_{\\theta} \\log p(x, \\theta)^{T}f(\\theta) + \\nabla f(\\theta) ])^{2}. $$  Appendix A shows $ \\mathcal{L}^{LS}_{OVI} = 0$ when $p(\\theta | \\mathcal{D}) = q$, as desired.  $ \\mathcal{L}^{LS}_{OVI}$ is also known as the [Stein Discrepancy](https://arxiv.org/abs/1602.03253)."
   ]
  },
  {
   "cell_type": "markdown",
   "metadata": {},
   "source": [
    "### Some Comments and Questions\n",
    "\n",
    "##### The Objective's Motivation\n",
    "The motivations behind the general form of $\\mathcal{L}_{OVI}$ are not clear to me.  For instance, the expectation is never motivated.  Clearly some integration over the parameter space will need done, and calculating expectations make the integration 'easier', but all the paper says about this is \"...the operator and a function will combine in an expectation designed such that the values close to zeros indicate $p$ is close to $q$\" (page 2).  I get the impression the authors started from the Stein Discrepancy and worked backwards to generalize the expression.\n",
    "\n",
    "##### Connections to KL-Divergence\n",
    "I may have missed it, but I don't see the following connection between the Stein Discrepancy and KL-Divergence mentioned anywhere: $$ \\mathcal{L}^{LS}_{OVI} = - \\nabla_{\\epsilon} KLD[q(\\tilde \\theta) \\mid \\mid p(\\tilde \\theta|\\mathcal{D})] \\mid_{\\epsilon=0} \\text{ where } \\tilde \\theta = \\theta + \\epsilon f(\\theta). $$  The derivation can be found [here](https://arxiv.org/abs/1205.2629).  This implies that optimizing $\\mathcal{L}^{LS}_{OVI}$ is actually optimizing the derivative of the KLD between the (perturbed) distributions.  [Denoising autoencoders optimize something similar](http://www.iro.umontreal.ca/~vincentp/Publications/smdae_techreport.pdf).  In another recent and related paper, [Liu and Wang uses the Stein Divergence directly to update variational particles](https://arxiv.org/abs/1608.04471).  Their procedure has the added benefit that kernels (that don't need their parameters estimated) can be used for $f$.\n",
    "\n",
    "##### Updating Generative Parameters\n",
    "In Algorithm 1, there is no line for updating the parameters of the generative model.  They don't need estimated?  Experimental Section 4.2 suggests they don't: \"The LS performs better than KL even though the model parameters were learned with KL\" (page 8).  "
   ]
  },
  {
   "cell_type": "markdown",
   "metadata": {},
   "source": [
    "### Gaussian Mixture Example (Section 4.1)\n",
    "\n",
    "Let's first define the neccessary models: a Gaussian mixture (for $p$) and a neural network (for $f$ and $q$)."
   ]
  },
  {
   "cell_type": "code",
   "execution_count": 23,
   "metadata": {
    "collapsed": false
   },
   "outputs": [],
   "source": [
    "# Mixture Model\n",
    "def gaussPdf(x, params):\n",
    "    return (1./np.sqrt(2*np.pi*params['sigma']**2)) * np.exp((-.5/params['sigma']**2) * np.sum((x-params['mu'])**2))\n",
    "\n",
    "def logGaussMixPDF(x, params):\n",
    "    return params['pi'][0] * gaussPdf(x, {'mu':params['mu'][0], 'sigma':params['sigma'][0]}) \\\n",
    "            + params['pi'][1] * gaussPdf(x, {'mu':params['mu'][1], 'sigma':params['sigma'][1]})\n",
    "\n",
    "# Neural Network\n",
    "def make_nn_funs(layer_sizes, weight_scale=10.0, noise_scale=0.1, nonlinearity=np.tanh):\n",
    "    \"\"\"These functions implement a standard multi-layer perceptron.\"\"\"\n",
    "    shapes = list(zip(layer_sizes[:-1], layer_sizes[1:]))\n",
    "    num_weights = sum((m+1)*n for m, n in shapes)\n",
    "\n",
    "    def unpack_layers(weights):\n",
    "        for m, n in shapes:\n",
    "            cur_layer_weights = weights[:m*n]     .reshape((m, n))\n",
    "            cur_layer_biases  = weights[m*n:m*n+n].reshape((1, n))\n",
    "            yield cur_layer_weights, cur_layer_biases\n",
    "            weights = weights[(m+1)*n:]\n",
    "\n",
    "    def forwardProp(weights, inputs):\n",
    "        for W, b in unpack_layers(weights):\n",
    "            outputs = np.dot(inputs, W) + b\n",
    "            inputs = nonlinearity(outputs)\n",
    "        return outputs\n",
    "    \n",
    "    def forwardPropToDiff(inputs, weights):\n",
    "        for W, b in unpack_layers(weights):\n",
    "            outputs = np.dot(inputs, W) + b\n",
    "            inputs = nonlinearity(outputs)\n",
    "        return outputs\n",
    "\n",
    "    return num_weights, forwardProp, forwardPropToDiff"
   ]
  },
  {
   "cell_type": "markdown",
   "metadata": {},
   "source": [
    "Next initialize parameters and compute gradients via Autograd..."
   ]
  },
  {
   "cell_type": "code",
   "execution_count": 24,
   "metadata": {
    "collapsed": false
   },
   "outputs": [],
   "source": [
    "rs = npr.RandomState(0)\n",
    "\n",
    "# define models\n",
    "logPost = logGaussMixPDF\n",
    "q_num_weights, q_forwardProp, _ = make_nn_funs(layer_sizes=[10, 50, 50, 1], nonlinearity=lambda x: np.maximum(x, 0.0))\n",
    "f_num_weights, f_forwardProp, f_toDiff = make_nn_funs(layer_sizes=[1, 20, 20, 1], nonlinearity=lambda x: np.maximum(x, 0.0))\n",
    "\n",
    "# init params\n",
    "postParams = {\n",
    "    'mu': [-4,3],\n",
    "    'sigma': [1, 3],\n",
    "    'pi': [.3, .7]\n",
    "}\n",
    "\n",
    "qParams = .2 * rs.randn(q_num_weights)\n",
    "fParams = .2 * rs.randn(f_num_weights)\n",
    "\n",
    "# compute grads (automatically)\n",
    "# Note: compute wrt x, not params\n",
    "dlogPost = grad(logPost)\n",
    "df = grad(f_toDiff)"
   ]
  },
  {
   "cell_type": "markdown",
   "metadata": {},
   "source": [
    "Define the OVI objective (Stein version) twice, once for updating $q$ and once for $f$..."
   ]
  },
  {
   "cell_type": "code",
   "execution_count": 25,
   "metadata": {
    "collapsed": false
   },
   "outputs": [],
   "source": [
    "def opVI_obj_qUpdate(params):\n",
    "    z_sample = q_forwardProp(params, np.random.normal(size=(1,10)))[0,0]\n",
    "    dz_logp = dlogPost(z_sample, postParams)\n",
    "    f_val = f_forwardProp(fParams, z_sample)[0,0]\n",
    "    df_val = df(z_sample, fParams)\n",
    "    return (dz_logp * f_val + df_val)**2\n",
    "\n",
    "def opVI_obj_fUpdate(params):\n",
    "    z_sample = q_forwardProp(qParams, np.random.normal(size=(1,10)))[0,0]\n",
    "    dz_logp = dlogPost(z_sample, postParams)\n",
    "    f_val = f_forwardProp(params, z_sample)[0,0]\n",
    "    df_val = df(z_sample, params)\n",
    "    return (dz_logp * f_val + df_val)**2\n",
    "\n",
    "dObj_qUpdate = grad(opVI_obj_qUpdate)\n",
    "dObj_fUpdate = grad(opVI_obj_fUpdate)"
   ]
  },
  {
   "cell_type": "markdown",
   "metadata": {},
   "source": [
    "Training loop..."
   ]
  },
  {
   "cell_type": "code",
   "execution_count": 29,
   "metadata": {
    "collapsed": false
   },
   "outputs": [
    {
     "data": {
      "text/plain": [
       "<matplotlib.legend.Legend at 0x1121ac610>"
      ]
     },
     "execution_count": 29,
     "metadata": {},
     "output_type": "execute_result"
    },
    {
     "data": {
      "image/png": "[encoded data removed]",
      "text/plain": [
       "<matplotlib.figure.Figure at 0x111df3710>"
      ]
     },
     "metadata": {},
     "output_type": "display_data"
    }
   ],
   "source": [
    "nEpochs = 200\n",
    "lr = 10.\n",
    "\n",
    "for epoch_idx in xrange(nEpochs):\n",
    "    #print \"OVI Obj: %f\" %(opVI_obj_qUpdate(qParams))\n",
    "    grad_q_params = dObj_qUpdate(qParams)\n",
    "    grad_f_params = dObj_fUpdate(fParams)\n",
    "    qParams -= lr * grad_q_params\n",
    "    fParams -= lr * grad_f_params\n",
    "        \n",
    "# true post\n",
    "x_true = np.linspace(-10, 10, 1000)\n",
    "probs_true = [np.exp(logPost(x, postParams)) for x in x_true]\n",
    "\n",
    "# approx learned by q\n",
    "nSamples = 50\n",
    "x_samples = [q_forwardProp(qParams, np.random.normal(size=(1,10)))[0,0] for idx in xrange(nSamples)]\n",
    "x_samples.sort()\n",
    "probs_approx = [np.exp(logPost(x, postParams)) for x in x_samples]\n",
    "\n",
    "plt.plot(x_true, probs_true, 'b-', linewidth=5, label=\"True Post.\")\n",
    "plt.plot(x_samples, probs_approx, 'rx--', linewidth=5, label=\"OVI Approx\")\n",
    "plt.xlim([-10,10])\n",
    "plt.legend()"
   ]
  },
  {
   "cell_type": "code",
   "execution_count": null,
   "metadata": {
    "collapsed": true
   },
   "outputs": [],
   "source": []
  }
 ],
 "metadata": {
  "anaconda-cloud": {},
  "kernelspec": {
   "display_name": "Python 2",
   "language": "python",
   "name": "python2"
  },
  "language_info": {
   "codemirror_mode": {
    "name": "ipython",
    "version": 2
   },
   "file_extension": ".py",
   "mimetype": "text/x-python",
   "name": "python",
   "nbconvert_exporter": "python",
   "pygments_lexer": "ipython2",
   "version": "2.7.11"
  }
 },
 "nbformat": 4,
 "nbformat_minor": 1
}

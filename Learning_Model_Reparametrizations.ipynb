{
 "cells": [
  {
   "cell_type": "code",
   "execution_count": 1,
   "metadata": {
    "collapsed": false
   },
   "outputs": [],
   "source": [
    "import cPickle as cp\n",
    "\n",
    "from IPython.display import Image\n",
    "import matplotlib\n",
    "import matplotlib.pyplot as plt\n",
    "import matplotlib.mlab as mlab\n",
    "from matplotlib.mlab import bivariate_normal\n",
    "\n",
    "import autograd.numpy as np\n",
    "from autograd import grad\n",
    "%matplotlib inline"
   ]
  },
  {
   "cell_type": "code",
   "execution_count": 2,
   "metadata": {
    "collapsed": false
   },
   "outputs": [],
   "source": [
    "dim = 2\n",
    "plot_x_lim = [-6, 6]\n",
    "plot_y_lim = [-30, 10]\n",
    "x = np.arange(plot_x_lim[0], plot_x_lim[1], 0.5)\n",
    "y = np.arange(plot_y_lim[0], plot_y_lim[1], 0.5)\n",
    "X, Y = np.meshgrid(x, y)"
   ]
  },
  {
   "cell_type": "markdown",
   "metadata": {
    "collapsed": false
   },
   "source": [
    "Let's define a function to perform AdaM updates..."
   ]
  },
  {
   "cell_type": "code",
   "execution_count": 3,
   "metadata": {
    "collapsed": false
   },
   "outputs": [],
   "source": [
    "# AdaM: Adaptive Moments Optimizer\n",
    "## Params\n",
    "### alpha0: base learning rate\n",
    "### grad: current gradient\n",
    "### adam_values: dictionary containing moment estimates\n",
    "\n",
    "def get_AdaM_update(alpha_0, grad, adam_values, b1=.95, b2=.999, e=1e-8):\n",
    "    adam_values['t'] += 1\n",
    "\n",
    "    # update mean                                                                                                                                                                                                     \n",
    "    adam_values['mean'] = b1 * adam_values['mean'] + (1-b1) * grad\n",
    "    m_hat = adam_values['mean'] / (1-b1**adam_values['t'])\n",
    "\n",
    "    # update variance                                                                                                                                                                                                 \n",
    "    adam_values['var'] = b2 * adam_values['var'] + (1-b2) * grad**2\n",
    "    v_hat = adam_values['var'] / (1-b2**adam_values['t'])\n",
    "\n",
    "    return alpha_0 * m_hat/(np.sqrt(v_hat) + e)"
   ]
  },
  {
   "cell_type": "markdown",
   "metadata": {},
   "source": [
    "### [Learning Model Reparametrizations](https://arxiv.org/abs/1708.01529)\n",
    "#### By Michalis K. Titsias\n",
    "\n",
    "The idea behind *Learning Model Reparametrizations* is to parametrize the variable of interest as a transformation of the form: $$ \\boldsymbol{\\theta} = g(\\boldsymbol{\\xi}; \\boldsymbol{\\phi}), \\ \\boldsymbol{\\xi} \\sim p_{0} $$ where $\\boldsymbol{\\theta}$ is the model variable, $\\boldsymbol{\\phi}$ are the transformation parameters, and $p_{0}$ is a fixed distribution.  MCMC is performed to collect $\\boldsymbol{\\xi}$ samples, which, ostensibly, is easier than collecting samples of $\\boldsymbol{\\theta}$ directly as we are aided by the transformation.  In order to compute the joint likelihood, the transformation must be invertible, enabling use of the change of variables formula: $$ p(\\mathbf{x}, \\boldsymbol{\\xi}; \\boldsymbol{\\phi}) = p(\\mathbf{x}, g(\\boldsymbol{\\xi}; \\boldsymbol{\\phi})) \\ \\mid \\text{det} \\ \\nabla_{\\boldsymbol{\\xi}} \\  g(\\boldsymbol{\\xi}; \\boldsymbol{\\phi}) \\mid $$ where $\\mid \\text{det} \\ \\nabla_{\\boldsymbol{\\xi}} \\  g(\\boldsymbol{\\xi}; \\boldsymbol{\\phi}) \\mid$ is the transformation's Jacobian.  Inference proceeds by running MCMC on $p(\\mathbf{x}, \\boldsymbol{\\xi}; \\boldsymbol{\\phi})$ twice per iteration.  The first set of $\\boldsymbol{\\xi}$ samples are used for a gradient-based update of the transformation parameters $\\boldsymbol{\\phi}$, and the second set are used to update point estimates for any remaining model parameters."
   ]
  },
  {
   "cell_type": "markdown",
   "metadata": {},
   "source": [
    "### Experiment: Collecting samples from the banana distribution\n",
    "Let's draw data from the classic MCMC test case: the banana distribution..."
   ]
  },
  {
   "cell_type": "code",
   "execution_count": 4,
   "metadata": {
    "collapsed": false
   },
   "outputs": [
    {
     "data": {
      "image/png": "[encoded data removed]",
      "text/plain": [
       "<matplotlib.figure.Figure at 0x105b8b050>"
      ]
     },
     "metadata": {},
     "output_type": "display_data"
    }
   ],
   "source": [
    "### Make Dataset\n",
    "N = 1000\n",
    "data = np.random.normal(size=(N, dim))\n",
    "z1 = 1.25*data[:,0]\n",
    "z2 = data[:,1]/1.25 - 1.5*(z1**2 + 1.25)\n",
    "data = np.hstack([z1[np.newaxis].T, z2[np.newaxis].T])\n",
    "np.random.shuffle(data)\n",
    "\n",
    "plt.scatter(data[:,0], data[:,1], marker='x', s=25, c='k', alpha=.7)\n",
    "\n",
    "plt.xlim([plot_x_lim[0], plot_x_lim[1]])\n",
    "plt.ylim([plot_y_lim[0], plot_y_lim[1]])\n",
    "plt.show()"
   ]
  },
  {
   "cell_type": "markdown",
   "metadata": {},
   "source": [
    "### Method\n",
    "\n",
    "First, let's define the models.  We'll use an uncorrelated Gaussian for all models, including the MCMC proposal.  We assume the (banana) data is drawn from $ \\boldsymbol{x} \\sim \\text{N}(\\boldsymbol{\\theta}, \\text{diag}(\\boldsymbol{\\Sigma})) $ and the mean is generated by the transformation $\\boldsymbol{\\theta} = \\boldsymbol{\\mu} + \\boldsymbol{\\xi} \\mathbf{L}$ where $\\mathbf{L}$ is a positive, lower-triangular matrix.  Thus, we'll update $\\{\\boldsymbol{\\mu}, \\mathbf{L} \\}$ with the first set of MCMC draws and $\\{\\boldsymbol{\\Sigma}\\}$ with the second."
   ]
  },
  {
   "cell_type": "code",
   "execution_count": 5,
   "metadata": {
    "collapsed": false
   },
   "outputs": [],
   "source": [
    "# Gaussian\n",
    "def logGaussPdf(x, params):\n",
    "    # params: {'mu': mean, 'sigma': standard dev.}\n",
    "    return  -.5/params['sigma']**2 * (x-params['mu'])**2 + -.5 * np.log(2*np.pi*params['sigma']**2)\n",
    "\n",
    "# Gaussian model\n",
    "def logModel(data, theta, logSigma):\n",
    "    return np.sum(logGaussPdf(data, {'mu':theta, 'sigma': np.exp(logSigma)}))\n",
    "\n",
    "# Gaussian model with lower triangular inv transform\n",
    "def logModel_w_transform(data, mu, logL, e, logSigma):\n",
    "    L = np.exp(logL)\n",
    "    theta = mu + np.dot(e, L)\n",
    "    return logModel(data, theta, logSigma) + np.sum(np.log(np.diag(L)))"
   ]
  },
  {
   "cell_type": "markdown",
   "metadata": {},
   "source": [
    "Next let's get functions for the necessary gradients: $\\partial \\log p(\\mathbf{x}, \\boldsymbol{\\xi}; \\boldsymbol{\\phi}) / \\partial \\boldsymbol{\\mu}$, $\\partial \\log p(\\mathbf{x}, \\boldsymbol{\\xi}; \\boldsymbol{\\phi}) / \\partial \\mathbf{L}$, and $\\partial \\log p(\\mathbf{x}, \\boldsymbol{\\theta}) / \\partial \\boldsymbol{\\Sigma}$..."
   ]
  },
  {
   "cell_type": "code",
   "execution_count": 6,
   "metadata": {
    "collapsed": false
   },
   "outputs": [],
   "source": [
    "dLogModelWithTransform_dMu = grad(lambda mu, data, logL, e, logSigma: logModel_w_transform(data, mu, logL, e, logSigma))\n",
    "\n",
    "dLogModelWithTransform_dLogL = grad(lambda logL, data, mu, e, logSigma: logModel_w_transform(data, mu, logL, e, logSigma))\n",
    "\n",
    "dLogModel_dLogSigma = grad(lambda logSigma, data, theta: logModel(data, theta, logSigma))"
   ]
  },
  {
   "cell_type": "markdown",
   "metadata": {},
   "source": [
    "Now let's define a function to run MCMC on $p(\\mathbf{x}, \\hat{\\boldsymbol{\\xi}}; \\boldsymbol{\\phi}) / p(\\mathbf{x}, \\boldsymbol{\\xi}_{0}; \\boldsymbol{\\phi})$ with the proposal $\\hat{\\boldsymbol{\\xi}} \\sim \\text{N}(\\mathbf{0},\\mathbb{I})$..."
   ]
  },
  {
   "cell_type": "code",
   "execution_count": 7,
   "metadata": {
    "collapsed": false
   },
   "outputs": [],
   "source": [
    "def run_MH(data, logModel_w_transform, model_params, reparam_params, e0, n_MCMC_its):\n",
    "    samples = []\n",
    "    \n",
    "    for idx in range(n_MCMC_its):\n",
    "        proposal = np.random.normal(loc=e0, scale=1, size=(1,2))\n",
    "        \n",
    "        log_ratio = logModel_w_transform(data, reparam_params['mu'], reparam_params['logL'], proposal, model_params['logSigma']) \\\n",
    "                - logModel_w_transform(data, reparam_params['mu'], reparam_params['logL'], e0, model_params['logSigma'])\n",
    "        log_correction = np.sum(logGaussPdf(e0, {'mu':proposal, 'sigma':1.})) - np.sum(logGaussPdf(proposal, {'mu':e0, 'sigma':1.}))\n",
    "        \n",
    "        accept_prob = np.minimum(1., np.exp(log_ratio + log_correction))\n",
    "        uni_prob = np.random.uniform(low=0., high=1.)\n",
    "        \n",
    "        if uni_prob <= accept_prob:\n",
    "            samples.append(proposal)\n",
    "            e0 = proposal\n",
    "            \n",
    "    return samples"
   ]
  },
  {
   "cell_type": "markdown",
   "metadata": {},
   "source": [
    "Putting everything together for Algorithm \\#1 (page 6), using AdaM for the gradient updates..."
   ]
  },
  {
   "cell_type": "code",
   "execution_count": 8,
   "metadata": {
    "collapsed": false
   },
   "outputs": [],
   "source": [
    "def run_implicitMCMC_VI(data, model_params, reparam_params, lr=.001, n_epochs=100, nChains=20, n_MCMC_its=100):\n",
    "    \n",
    "    adam_values = {'mu':{'mean': 0., 'var': 0., 't': 0}, \n",
    "                    'logL':{'mean': 0., 'var': 0., 't': 0},\n",
    "                    'logSigma':{'mean': 0., 'var': 0., 't': 0},\n",
    "                   }\n",
    "    \n",
    "    for it_idx in range(n_epochs):\n",
    "        \n",
    "        # update the reparametrization parameters\n",
    "        e_samples = []\n",
    "        for s in range(nChains):\n",
    "            e0 = np.array([[np.random.normal(scale=np.sqrt(2)), np.random.normal(loc=-25, scale=np.sqrt(3))]])\n",
    "            e_samples.append(run_MH(data, logModel_w_transform, model_params, reparam_params, e0, n_MCMC_its)[-1])\n",
    "        \n",
    "        grad_mu = 0.\n",
    "        grad_logL = 0.\n",
    "        for e in e_samples:\n",
    "            grad_mu += dLogModelWithTransform_dMu(reparam_params['mu'], data, reparam_params['logL'], e, model_params['logSigma']) / nChains\n",
    "            grad_logL += dLogModelWithTransform_dLogL(reparam_params['logL'], data, reparam_params['mu'], e, model_params['logSigma']) / nChains\n",
    "        \n",
    "        reparam_params['mu'] += get_AdaM_update(lr, grad_mu/len(e_samples), adam_values['mu']) \n",
    "        reparam_params['logL'] += np.tril( get_AdaM_update(lr, grad_logL, adam_values['logL']) )\n",
    "        \n",
    "        # update model params\n",
    "        thetas = []\n",
    "        for s in range(nChains):\n",
    "            e0 = np.array([[np.random.normal(scale=np.sqrt(2)), np.random.normal(loc=-25, scale=np.sqrt(3))]])\n",
    "            e_samples = run_MH(data, logModel_w_transform, model_params, reparam_params, e0, n_MCMC_its)\n",
    "            thetas.append( reparam_params['mu'] + np.dot(e_samples[-1], np.exp(reparam_params['logL'])) )\n",
    "        \n",
    "        grad_logSig = 0.\n",
    "        for theta in thetas:\n",
    "            grad_logSig += dLogModel_dLogSigma(model_params['logSigma'], data, theta) / nChains\n",
    "        \n",
    "        model_params['logSigma'] += get_AdaM_update(lr, grad_logSig, adam_values['logSigma'])\n",
    "        \n",
    "        # check data likelihood\n",
    "        print \"Epoch #%d, LL: %.4f\" %(it_idx+1, np.mean([logModel(data, theta, model_params['logSigma']) for theta in thetas]))\n",
    "\n",
    "    # get one more round of samples\n",
    "    final_e_samples = []\n",
    "    for s in range(500):\n",
    "        e0 = np.array([[np.random.normal(scale=2), np.random.normal(loc=-20, scale=3)]])\n",
    "        final_e_samples.append(run_MH(data, logModel_w_transform, model_params, reparam_params, e0, n_MCMC_its)[-1])\n",
    "    \n",
    "    return model_params, reparam_params, final_e_samples"
   ]
  },
  {
   "cell_type": "markdown",
   "metadata": {},
   "source": [
    "Finally, let's run the algorithm..."
   ]
  },
  {
   "cell_type": "code",
   "execution_count": 9,
   "metadata": {
    "collapsed": false
   },
   "outputs": [
    {
     "name": "stderr",
     "output_type": "stream",
     "text": [
      "//anaconda/lib/python2.7/site-packages/autograd/core.py:107: RuntimeWarning: overflow encountered in exp\n",
      "  result = self.fun(*argvals, **kwargs)\n"
     ]
    },
    {
     "name": "stdout",
     "output_type": "stream",
     "text": [
      "Epoch #1, LL: -12476.0637\n",
      "Epoch #2, LL: -10437.7788\n",
      "Epoch #3, LL: -8243.2878\n",
      "Epoch #4, LL: -10857.8806\n",
      "Epoch #5, LL: -10976.7924\n",
      "Epoch #6, LL: -8293.6888\n",
      "Epoch #7, LL: -9246.9025\n",
      "Epoch #8, LL: -8597.0608\n",
      "Epoch #9, LL: -7667.9247\n",
      "Epoch #10, LL: -9230.3749\n",
      "Epoch #11, LL: -6996.1686\n",
      "Epoch #12, LL: -7052.6903\n",
      "Epoch #13, LL: -8462.0853\n",
      "Epoch #14, LL: -6862.9980\n",
      "Epoch #15, LL: -6232.2872\n",
      "Epoch #16, LL: -5396.6238\n",
      "Epoch #17, LL: -5355.2514\n",
      "Epoch #18, LL: -5578.6765\n",
      "Epoch #19, LL: -5110.3600\n",
      "Epoch #20, LL: -5011.2599\n",
      "Epoch #21, LL: -4936.6214\n",
      "Epoch #22, LL: -5242.1282\n",
      "Epoch #23, LL: -4912.0836\n",
      "Epoch #24, LL: -4810.5175\n",
      "Epoch #25, LL: -4869.1668\n",
      "Epoch #26, LL: -5114.1281\n",
      "Epoch #27, LL: -5432.7441\n",
      "Epoch #28, LL: -4988.2317\n",
      "Epoch #29, LL: -4936.8994\n",
      "Epoch #30, LL: -4870.7518\n",
      "Epoch #31, LL: -4792.9861\n",
      "Epoch #32, LL: -4723.3535\n",
      "Epoch #33, LL: -4728.2715\n",
      "Epoch #34, LL: -4717.2676\n",
      "Epoch #35, LL: -4644.1239\n",
      "Epoch #36, LL: -4612.9810\n",
      "Epoch #37, LL: -4637.1946\n",
      "Epoch #38, LL: -4724.1898\n",
      "Epoch #39, LL: -4512.2495\n",
      "Epoch #40, LL: -4562.9887\n",
      "Epoch #41, LL: -4586.2697\n",
      "Epoch #42, LL: -4645.8860\n",
      "Epoch #43, LL: -4491.1740\n",
      "Epoch #44, LL: -4441.1386\n",
      "Epoch #45, LL: -4450.5123\n",
      "Epoch #46, LL: -4426.5431\n",
      "Epoch #47, LL: -4421.4660\n",
      "Epoch #48, LL: -4605.3012\n",
      "Epoch #49, LL: -4442.1229\n",
      "Epoch #50, LL: -4429.1111\n",
      "Epoch #51, LL: -4506.1787\n",
      "Epoch #52, LL: -4545.8553\n",
      "Epoch #53, LL: -4433.3663\n",
      "Epoch #54, LL: -4502.9634\n",
      "Epoch #55, LL: -4421.0805\n",
      "Epoch #56, LL: -4413.6289\n",
      "Epoch #57, LL: -4423.8163\n",
      "Epoch #58, LL: -4390.3199\n",
      "Epoch #59, LL: -4407.9442\n",
      "Epoch #60, LL: -4415.1836\n",
      "Epoch #61, LL: -4415.1289\n",
      "Epoch #62, LL: -4471.0278\n",
      "Epoch #63, LL: -4431.5166\n",
      "Epoch #64, LL: -4415.9765\n",
      "Epoch #65, LL: -4380.3398\n",
      "Epoch #66, LL: -4383.3685\n",
      "Epoch #67, LL: -4377.1303\n",
      "Epoch #68, LL: -4385.2836\n",
      "Epoch #69, LL: -4376.9392\n",
      "Epoch #70, LL: -4363.8976\n",
      "Epoch #71, LL: -4356.9459\n",
      "Epoch #72, LL: -4350.1290\n",
      "Epoch #73, LL: -4350.4027\n",
      "Epoch #74, LL: -4335.8580\n",
      "Epoch #75, LL: -4335.0264\n",
      "Epoch #76, LL: -4333.9457\n",
      "Epoch #77, LL: -4328.8623\n",
      "Epoch #78, LL: -4321.5858\n",
      "Epoch #79, LL: -4315.7089\n",
      "Epoch #80, LL: -4311.0546\n",
      "Epoch #81, LL: -4312.7421\n",
      "Epoch #82, LL: -4296.0063\n",
      "Epoch #83, LL: -4292.0640\n",
      "Epoch #84, LL: -4306.7834\n",
      "Epoch #85, LL: -4381.3464\n",
      "Epoch #86, LL: -4288.2601\n",
      "Epoch #87, LL: -4320.5275\n",
      "Epoch #88, LL: -4287.0600\n",
      "Epoch #89, LL: -4279.1892\n",
      "Epoch #90, LL: -4283.5574\n",
      "Epoch #91, LL: -4307.0586\n",
      "Epoch #92, LL: -4544.3050\n",
      "Epoch #93, LL: -4273.6808\n",
      "Epoch #94, LL: -4280.2732\n",
      "Epoch #95, LL: -4269.4930\n",
      "Epoch #96, LL: -4311.5447\n",
      "Epoch #97, LL: -4271.9921\n",
      "Epoch #98, LL: -4270.8736\n",
      "Epoch #99, LL: -4266.5921\n",
      "Epoch #100, LL: -4263.6485\n"
     ]
    }
   ],
   "source": [
    "# INIT PARAMS\n",
    "model_params = {'logSigma': np.zeros((1,2))}\n",
    "reparam_params = {'logL': np.eye(2)*.01, 'mu': np.zeros((1,2))}\n",
    "\n",
    "\n",
    "maxEpochs = 100\n",
    "learning_rate = .03\n",
    "nChains = 50\n",
    "nMCMCSteps = 50\n",
    "\n",
    "model_params, reparam_params, final_e_samples = run_implicitMCMC_VI(data, model_params, reparam_params, \\\n",
    "                                                                    lr=learning_rate, n_epochs=maxEpochs,\\\n",
    "                                                                    nChains=nChains, n_MCMC_its=nMCMCSteps)\n",
    "\n",
    "final_theta_samples = [reparam_params['mu'] + np.dot(e, np.exp(reparam_params['logL'])) for e in final_e_samples]\n",
    "\n",
    "x_samples = []\n",
    "for theta in final_theta_samples:\n",
    "    for s in range(1):\n",
    "        x_samples.append( theta + np.random.normal(size=(1,2))*np.exp(model_params['logSigma']) ) \n",
    "\n",
    "final_theta_samples = np.array(final_theta_samples)[:,0,:]\n",
    "x_samples = np.array(x_samples)[:,0,:]"
   ]
  },
  {
   "cell_type": "markdown",
   "metadata": {},
   "source": [
    "And visualize the results, including the initial $\\boldsymbol{\\xi}$ density (blue)..."
   ]
  },
  {
   "cell_type": "code",
   "execution_count": 10,
   "metadata": {
    "collapsed": false
   },
   "outputs": [
    {
     "data": {
      "image/png": "[encoded data removed]",
      "text/plain": [
       "<matplotlib.figure.Figure at 0x10c62d690>"
      ]
     },
     "metadata": {},
     "output_type": "display_data"
    }
   ],
   "source": [
    "Z = bivariate_normal(X, Y, sigmax=np.sqrt(2), sigmay=np.sqrt(3), mux=0, muy=-25)\n",
    "plt.contour(X,Y,Z, colors='blue', linewidths=3)\n",
    "\n",
    "plt.scatter(data[:,0], data[:,1], marker='x', s=25, c='k', alpha=.7)\n",
    "plt.scatter(x_samples[:,0], x_samples[:,1], marker='x', s=25, c='r', alpha=.7)\n",
    "\n",
    "plt.xlim([plot_x_lim[0], plot_x_lim[1]])\n",
    "plt.ylim([plot_y_lim[0], plot_y_lim[1]])\n",
    "plt.show()"
   ]
  }
 ],
 "metadata": {
  "kernelspec": {
   "display_name": "Python 2",
   "language": "python",
   "name": "python2"
  },
  "language_info": {
   "codemirror_mode": {
    "name": "ipython",
    "version": 2
   },
   "file_extension": ".py",
   "mimetype": "text/x-python",
   "name": "python",
   "nbconvert_exporter": "python",
   "pygments_lexer": "ipython2",
   "version": "2.7.11"
  }
 },
 "nbformat": 4,
 "nbformat_minor": 1
}

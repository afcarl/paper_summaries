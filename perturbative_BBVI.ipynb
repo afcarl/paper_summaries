{
 "cells": [
  {
   "cell_type": "code",
   "execution_count": 1,
   "metadata": {
    "collapsed": false
   },
   "outputs": [],
   "source": [
    "from IPython.display import Image\n",
    "import itertools\n",
    "\n",
    "import matplotlib\n",
    "import matplotlib.pyplot as plt\n",
    "import matplotlib.mlab as mlab\n",
    "\n",
    "import autograd.numpy as np\n",
    "from autograd import grad\n",
    "\n",
    "%matplotlib inline"
   ]
  },
  {
   "cell_type": "markdown",
   "metadata": {},
   "source": [
    "Let's define a function to perform [AdaM](https://arxiv.org/abs/1412.6980) updates..."
   ]
  },
  {
   "cell_type": "code",
   "execution_count": 2,
   "metadata": {
    "collapsed": false
   },
   "outputs": [],
   "source": [
    "# AdaM: Adaptive Moments Optimizer\n",
    "## Params\n",
    "### alpha0: base learning rate\n",
    "### grad: current gradient\n",
    "### adam_values: dictionary containing moment estimates\n",
    "\n",
    "def get_AdaM_update(alpha_0, grad, adam_values, b1=.95, b2=.999, e=1e-8):\n",
    "    adam_values['t'] += 1\n",
    "\n",
    "    # update mean                                                                                                                                                                                                     \n",
    "    adam_values['mean'] = b1 * adam_values['mean'] + (1-b1) * grad\n",
    "    m_hat = adam_values['mean'] / (1-b1**adam_values['t'])\n",
    "\n",
    "    # update variance                                                                                                                                                                                                 \n",
    "    adam_values['var'] = b2 * adam_values['var'] + (1-b2) * grad**2\n",
    "    v_hat = adam_values['var'] / (1-b2**adam_values['t'])\n",
    "\n",
    "    return alpha_0 * m_hat/(np.sqrt(v_hat) + e)"
   ]
  },
  {
   "cell_type": "markdown",
   "metadata": {},
   "source": [
    "## 0.  Overview\n",
    "\n",
    "This notebook summarizes [Perturbative Black Box Variational Inference](https://arxiv.org/abs/1709.07433).  "
   ]
  },
  {
   "cell_type": "markdown",
   "metadata": {},
   "source": [
    "## 1.  Simulated Posterior: Mixture Density\n",
    "\n",
    "We are going to demonstrate all techniques on a simulated posterior.  As posteriors in the wild are often multimodal, we'll use a Gaussian mixture as our demonstration..."
   ]
  },
  {
   "cell_type": "code",
   "execution_count": 3,
   "metadata": {
    "collapsed": false
   },
   "outputs": [],
   "source": [
    "# Gaussian\n",
    "def gaussPdf(x, params):\n",
    "    # params: {'mu': mean, 'sigma': standard dev.}\n",
    "    return (1./np.sqrt(2*np.pi*params['sigma']**2)) * np.exp((-.5/params['sigma']**2) * np.sum((x-params['mu'])**2))\n",
    "\n",
    "# 2D Gaussian Mixture\n",
    "def logGaussMixPDF(x, params):\n",
    "    # params: {'pi': list of weights, 'mu': list of means, 'sigma': list of standard devs}\n",
    "    return np.log(params['pi'][0] * gaussPdf(x, {'mu':params['mu'][0], 'sigma':params['sigma'][0]}) \\\n",
    "            + params['pi'][1] * gaussPdf(x, {'mu':params['mu'][1], 'sigma':params['sigma'][1]}))"
   ]
  },
  {
   "cell_type": "markdown",
   "metadata": {},
   "source": [
    "Let's choose the parameters and plot the density..."
   ]
  },
  {
   "cell_type": "code",
   "execution_count": 4,
   "metadata": {
    "collapsed": false
   },
   "outputs": [
    {
     "data": {
      "image/png": "[encoded data removed]",
      "text/plain": [
       "<matplotlib.figure.Figure at 0x1063d3790>"
      ]
     },
     "metadata": {},
     "output_type": "display_data"
    }
   ],
   "source": [
    "true_posterior_params = {\n",
    "    'mu': [-4,3],\n",
    "    'sigma': [1, 3],\n",
    "    'pi': [.3, .7]\n",
    "}\n",
    "\n",
    "plt.figure()\n",
    "\n",
    "theta_grid = np.linspace(-10, 10, 1000)\n",
    "\n",
    "probs_true = [np.exp(logGaussMixPDF(z, true_posterior_params)) for z in theta_grid]\n",
    "plt.plot(theta_grid, probs_true, 'b-', linewidth=5, label=\"True Posterior\")\n",
    "\n",
    "plt.xlabel(r\"$\\theta$\")\n",
    "plt.xlim([-10,10])\n",
    "plt.ylim([0,.25])\n",
    "plt.legend()\n",
    "\n",
    "plt.show()"
   ]
  },
  {
   "cell_type": "markdown",
   "metadata": {},
   "source": [
    "## 2.  Variational Inference via ELBO\n",
    "\n",
    "Now let's fit a Gaussian approximation--$q(\\boldsymbol{\\theta};\\boldsymbol{\\phi}) \\ = \\ \\text{N}(\\boldsymbol{\\mu}_{\\boldsymbol{\\phi}}, \\boldsymbol{\\sigma}_{\\boldsymbol{\\phi}})$--using the [*Evidence Lower Bound* (ELBO)](http://www.umiacs.umd.edu/~xyang35/files/understanding-variational-lower.pdf): $$ \\log p(x) = \\mathbb{E}_{q(\\boldsymbol{\\theta})}[ \\log p(\\mathbf{X}, \\boldsymbol{\\theta})] + \\mathbb{H}_{q}[\\boldsymbol{\\theta}] + \\text{KLD}[q(\\boldsymbol{\\theta}) || p(\\boldsymbol{\\theta} | \\mathbf{X})] \\ge \\mathbb{E}_{q(\\boldsymbol{\\theta})}[ \\log p(\\mathbf{X}, \\boldsymbol{\\theta})] + \\mathbb{H}_{q}[\\boldsymbol{\\theta}].$$\n",
    "\n",
    "We'll perform fully gradient-based optimization.  Differentiating we have... $$ \\frac{\\partial}{\\partial \\boldsymbol{\\phi}} \\mathcal{L}_{\\text{ELBO}} =  \\frac{\\partial}{\\partial \\boldsymbol{\\phi}} \\mathbb{E}_{q(\\boldsymbol{\\theta})}[ \\log p(\\mathbf{X}, \\boldsymbol{\\theta})] + \\frac{\\partial}{\\partial \\boldsymbol{\\phi}} \\mathbb{H}_{q}[\\boldsymbol{\\theta}].$$\n",
    "\n",
    "Furthermore, so that we don't have to compute the above expectation by hand, we'll use a Monte Carlo (MC) approximation: $$\\mathbb{E}_{q(\\boldsymbol{\\theta})}[ \\log p(\\mathbf{X}, \\boldsymbol{\\theta})] \\approx \\frac{1}{S} \\sum_{s} \\log p(\\mathbf{X}, \\hat{\\boldsymbol{\\theta}}_{s})  $$ where $\\hat{\\boldsymbol{\\theta}}_{s} \\sim q(\\boldsymbol{\\theta})$.  The resulting gradient is then $$ \\frac{\\partial}{\\partial \\boldsymbol{\\phi}} \\frac{1}{S} \\sum_{s} \\log p(\\mathbf{X}, \\hat{\\boldsymbol{\\theta}}_{s}) = \\frac{1}{S} \\sum_{s} \\frac{\\partial}{\\partial \\hat{\\boldsymbol{\\theta}}_{s}} \\log p(\\mathbf{X}, \\hat{\\boldsymbol{\\theta}}_{s}) \\frac{\\partial \\hat{\\boldsymbol{\\theta}}_{s}}{\\partial \\boldsymbol{\\phi}}.$$  More importantly, we'll also use MC techniques when the expectations don't have analytical solutions (like in the case of Bayesian neural networks).\n",
    "\n",
    "The first step will be to get the necessary gradient terms via Autograd..."
   ]
  },
  {
   "cell_type": "code",
   "execution_count": 5,
   "metadata": {
    "collapsed": false
   },
   "outputs": [],
   "source": [
    "# Entropy of Gaussian\n",
    "def gaussEntropy(log_sigma):\n",
    "    return .5 * (np.log(2*np.pi*np.e) + 2.*log_sigma)\n",
    "\n",
    "# Function for sampling from Gaussian location-scale form\n",
    "def sample_from_Gauss(mu, log_sigma):\n",
    "    e = np.random.normal()\n",
    "    return mu + np.exp(log_sigma) * e, e\n",
    "\n",
    "\n",
    "### GET DERIVATIVES ###\n",
    "\n",
    "# d log p(X, \\theta) / d \\theta\n",
    "logModel = logGaussMixPDF\n",
    "dLogModel_dTheta = grad(logModel)\n",
    "\n",
    "# d theta / d log_sigma\n",
    "### we'll implement this ourselves\n",
    "\n",
    "# d entropy / d log_sigma\n",
    "dEntropy_dLogSigma = grad(gaussEntropy)"
   ]
  },
  {
   "cell_type": "markdown",
   "metadata": {},
   "source": [
    "Now lets initialize the variational parameters and optimize the ELBO..."
   ]
  },
  {
   "cell_type": "code",
   "execution_count": 22,
   "metadata": {
    "collapsed": false
   },
   "outputs": [
    {
     "name": "stdout",
     "output_type": "stream",
     "text": [
      "{'mu': 2.2863782471565059, 'log_sigma': 1.2724025628035105}\n"
     ]
    }
   ],
   "source": [
    "### INIT VARIATIONAL PARAMS \n",
    "phi = {'mu':-5., 'log_sigma':0.}\n",
    "\n",
    "\n",
    "### ELBO OPTIMIZATION\n",
    "maxEpochs = 750\n",
    "learning_rate = .1\n",
    "adam_values = {'mu':{'mean': 0., 'var': 0., 't': 0}, 'log_sigma':{'mean': 0., 'var': 0., 't': 0}}\n",
    "n_samples = 10\n",
    "\n",
    "for epochIdx in range(maxEpochs):\n",
    "    \n",
    "    elbo_grad_mu, elbo_grad_log_sigma = 0., 0.\n",
    "    for s in range(n_samples):\n",
    "        \n",
    "        theta_hat, rand_seed = sample_from_Gauss(phi['mu'], phi['log_sigma'])\n",
    "        dModel_dTheta = dLogModel_dTheta(theta_hat, true_posterior_params)\n",
    "        \n",
    "        elbo_grad_mu += 1./n_samples * dModel_dTheta * 1.\n",
    "        elbo_grad_log_sigma += 1./n_samples * dModel_dTheta * rand_seed * np.exp(phi['log_sigma'])\n",
    "        \n",
    "    elbo_grad_log_sigma += dEntropy_dLogSigma(phi['log_sigma'])\n",
    "        \n",
    "    phi['mu'] += get_AdaM_update(learning_rate, elbo_grad_mu, adam_values['mu'])  \n",
    "    phi['log_sigma'] += get_AdaM_update(learning_rate, elbo_grad_log_sigma, adam_values['log_sigma']) \n",
    "        \n",
    "print phi"
   ]
  },
  {
   "cell_type": "markdown",
   "metadata": {},
   "source": [
    "Let's visualize the results..."
   ]
  },
  {
   "cell_type": "code",
   "execution_count": 23,
   "metadata": {
    "collapsed": false
   },
   "outputs": [
    {
     "data": {
      "image/png": "[encoded data removed]",
      "text/plain": [
       "<matplotlib.figure.Figure at 0x112a4d190>"
      ]
     },
     "metadata": {},
     "output_type": "display_data"
    }
   ],
   "source": [
    "probs_elbo_approx = [gaussPdf(z, {'mu':phi['mu'], 'sigma':np.exp(phi['log_sigma'])}) for z in theta_grid] \n",
    "    \n",
    "plt.figure()\n",
    "\n",
    "plt.plot(theta_grid, probs_true, 'b-', linewidth=7, label=\"True Posterior\")\n",
    "plt.plot(theta_grid, probs_elbo_approx, '-r', linewidth=5, label=\"Variational Approx.\")\n",
    "\n",
    "plt.xlabel(r\"$\\theta$\")\n",
    "plt.xlim([-10,10])\n",
    "plt.ylim([0,.25])\n",
    "plt.legend()\n",
    "\n",
    "plt.show()"
   ]
  },
  {
   "cell_type": "markdown",
   "metadata": {},
   "source": [
    "## 3.  Variational Inference via PPVI\n",
    "\n"
   ]
  },
  {
   "cell_type": "code",
   "execution_count": 24,
   "metadata": {
    "collapsed": false
   },
   "outputs": [
    {
     "name": "stdout",
     "output_type": "stream",
     "text": [
      "{'mu': 1.6761736919381656, 'log_sigma': 1.4576919467696909}\n"
     ]
    }
   ],
   "source": [
    "### INIT VARIATIONAL PARAMS \n",
    "phi = {'mu':-5., 'log_sigma':0.}\n",
    "\n",
    "\n",
    "### ELBO OPTIMIZATION\n",
    "maxEpochs = 750\n",
    "learning_rate = .1\n",
    "adam_values = {'mu':{'mean': 0., 'var': 0., 't': 0}, 'log_sigma':{'mean': 0., 'var': 0., 't': 0}}\n",
    "n_samples = 10\n",
    "\n",
    "for epochIdx in range(maxEpochs):\n",
    "    \n",
    "    elbo_val, elbo_grad_mu, elbo_grad_log_sigma = 0., 0., 0.\n",
    "    for s in range(n_samples):\n",
    "        \n",
    "        theta_hat, rand_seed = sample_from_Gauss(phi['mu'], phi['log_sigma'])\n",
    "        dModel_dTheta = dLogModel_dTheta(theta_hat, true_posterior_params)\n",
    "        elbo_val += 1./n_samples * logModel(theta_hat, true_posterior_params)\n",
    "        \n",
    "        elbo_grad_mu += 1./n_samples * dModel_dTheta * 1.\n",
    "        elbo_grad_log_sigma += 1./n_samples * dModel_dTheta * rand_seed * np.exp(phi['log_sigma'])\n",
    "        \n",
    "    elbo_grad_log_sigma += dEntropy_dLogSigma(phi['log_sigma'])\n",
    "    elbo_val += gaussEntropy(phi['log_sigma'])\n",
    "    \n",
    "    ppvi_grad_mu = elbo_grad_mu + elbo_val * elbo_grad_mu + .5 * elbo_val**2 * elbo_grad_mu\n",
    "    ppvi_grad_log_sigma = elbo_grad_log_sigma + elbo_val * elbo_grad_log_sigma + .5 * elbo_val**2 * elbo_grad_log_sigma\n",
    "        \n",
    "    phi['mu'] += get_AdaM_update(learning_rate, ppvi_grad_mu, adam_values['mu'])  \n",
    "    phi['log_sigma'] += get_AdaM_update(learning_rate, ppvi_grad_log_sigma, adam_values['log_sigma']) \n",
    "        \n",
    "print phi"
   ]
  },
  {
   "cell_type": "code",
   "execution_count": 25,
   "metadata": {
    "collapsed": false
   },
   "outputs": [
    {
     "data": {
      "image/png": "[encoded data removed]",
      "text/plain": [
       "<matplotlib.figure.Figure at 0x11248c550>"
      ]
     },
     "metadata": {},
     "output_type": "display_data"
    }
   ],
   "source": [
    "probs_pbbvi_approx = [gaussPdf(z, {'mu':phi['mu'], 'sigma':np.exp(phi['log_sigma'])}) for z in theta_grid] \n",
    "    \n",
    "plt.figure()\n",
    "\n",
    "plt.plot(theta_grid, probs_true, 'b-', linewidth=7, label=\"True Posterior\")\n",
    "plt.plot(theta_grid, probs_elbo_approx, '-r', linewidth=5, label=\"ELBO\")\n",
    "plt.plot(theta_grid, probs_pbbvi_approx, '-g', linewidth=5, label=\"Perturb. BBVI\")\n",
    "\n",
    "plt.xlabel(r\"$\\theta$\")\n",
    "plt.xlim([-10,10])\n",
    "plt.ylim([0,.25])\n",
    "plt.legend()\n",
    "\n",
    "plt.show()"
   ]
  }
 ],
 "metadata": {
  "kernelspec": {
   "display_name": "Python 2",
   "language": "python",
   "name": "python2"
  },
  "language_info": {
   "codemirror_mode": {
    "name": "ipython",
    "version": 2
   },
   "file_extension": ".py",
   "mimetype": "text/x-python",
   "name": "python",
   "nbconvert_exporter": "python",
   "pygments_lexer": "ipython2",
   "version": "2.7.11"
  }
 },
 "nbformat": 4,
 "nbformat_minor": 1
}

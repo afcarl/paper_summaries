{
 "cells": [
  {
   "cell_type": "code",
   "execution_count": 13,
   "metadata": {
    "collapsed": false
   },
   "outputs": [],
   "source": [
    "from IPython.display import Image\n",
    "import itertools\n",
    "\n",
    "import matplotlib\n",
    "import matplotlib.pyplot as plt\n",
    "import matplotlib.mlab as mlab\n",
    "\n",
    "import autograd.numpy as np\n",
    "from autograd import grad\n",
    "\n",
    "%matplotlib inline"
   ]
  },
  {
   "cell_type": "markdown",
   "metadata": {},
   "source": [
    "Firstly, let's define a function to perform [AdaM](https://arxiv.org/abs/1412.6980) updates..."
   ]
  },
  {
   "cell_type": "code",
   "execution_count": 14,
   "metadata": {
    "collapsed": false
   },
   "outputs": [],
   "source": [
    "# AdaM: Adaptive Moments Optimizer\n",
    "## Params\n",
    "### alpha0: base learning rate\n",
    "### grad: current gradient\n",
    "### adam_values: dictionary containing moment estimates\n",
    "\n",
    "def get_AdaM_update(alpha_0, grad, adam_values, b1=.95, b2=.999, e=1e-8):\n",
    "    adam_values['t'] += 1\n",
    "\n",
    "    # update mean                                                                                                                                                                                                     \n",
    "    adam_values['mean'] = b1 * adam_values['mean'] + (1-b1) * grad\n",
    "    m_hat = adam_values['mean'] / (1-b1**adam_values['t'])\n",
    "\n",
    "    # update variance                                                                                                                                                                                                 \n",
    "    adam_values['var'] = b2 * adam_values['var'] + (1-b2) * grad**2\n",
    "    v_hat = adam_values['var'] / (1-b2**adam_values['t'])\n",
    "\n",
    "    return alpha_0 * m_hat/(np.sqrt(v_hat) + e)"
   ]
  },
  {
   "cell_type": "markdown",
   "metadata": {},
   "source": [
    "## 1.  [Perturbative Black Box VI](https://arxiv.org/abs/1709.07433)\n",
    "\n",
    "Consider the quantity $$ V(\\boldsymbol{\\theta}; \\boldsymbol{\\phi}) = -\\log p(\\mathbf{X}, \\boldsymbol{\\theta}) + \\log q(\\boldsymbol{\\theta}; \\boldsymbol{\\phi}),$$ which is just the negative of the [*evidence lower bound* (ELBO)](http://www.umiacs.umd.edu/~xyang35/files/understanding-variational-lower.pdf) without the enclosing expectation (i.e. $\\log p(\\mathbf{X}) \\ge \\mathbb{E}_{q}[- V(\\boldsymbol{\\theta}; \\boldsymbol{\\phi})]$).  Perturbative black box variational inference (PBBVI) considers the quantity: $$ p(\\mathbf{X}) = \\mathbb{E}_{q(\\boldsymbol{\\theta}; \\boldsymbol{\\phi})}[ f(e^{- V(\\boldsymbol{\\theta}; \\boldsymbol{\\phi})})].$$  When $f$ is the identity function, the objective becomes [an importance weighted estimate of the evidence](https://arxiv.org/abs/1509.00519), and when $f$ is $\\log$, then the ELBO is recovered.  Things get interesting when we consider functions between the aforementioned two, which will result in an objective that is tighter than the ELBO and lower variance than the importance sampled estimate.  Bamler et al. propose using an odd-ordered Taylor expansion around some point $V_{0}$.  For order three, we have: $$ p(\\mathbf{X}) \\ge e^{-V_{0}} \\mathbb{E}_{q(\\boldsymbol{\\theta}; \\boldsymbol{\\phi})}[ 1 + (V_{0} - V(\\boldsymbol{\\theta}; \\boldsymbol{\\phi})) + \\frac{1}{2} (V_{0} - V(\\boldsymbol{\\theta}; \\boldsymbol{\\phi}))^{2} + \\frac{1}{6} (V_{0} - V(\\boldsymbol{\\theta}; \\boldsymbol{\\phi}))^{3} ].$$  $V(\\boldsymbol{\\theta}; \\boldsymbol{\\phi})$ enters the equation polynomially, not exponentially, and thus a Monte Carlo estimate of the objective has lower variance than the importance sampled direct estimate (i.e. when $f$ is the identity).  "
   ]
  },
  {
   "cell_type": "markdown",
   "metadata": {},
   "source": [
    "## 2.  Experiment: Predictive Uncertainty\n",
    "\n",
    "Next we'll examine how PBBVI performs in model uncertainty in a regression setting..."
   ]
  },
  {
   "cell_type": "code",
   "execution_count": 15,
   "metadata": {
    "collapsed": false
   },
   "outputs": [
    {
     "data": {
      "image/png": "[encoded data removed]",
      "text/plain": [
       "<matplotlib.figure.Figure at 0x112847190>"
      ]
     },
     "metadata": {},
     "output_type": "display_data"
    }
   ],
   "source": [
    "# Simulate data\n",
    "N = 20\n",
    "x = np.array([np.random.uniform(-4,4) for n in range(N)])[np.newaxis].T\n",
    "y = x**3\n",
    "\n",
    "# True function\n",
    "x_true = np.linspace(start=-6, stop=6, num=1000)\n",
    "y_true = x_true**3\n",
    "\n",
    "plt.plot(x_true, y_true, 'k-', label=\"True Function\")\n",
    "plt.plot(x, y, 'xk', ms=10, linewidth=1, label=\"Observations\")\n",
    "\n",
    "plt.xlabel(\"X\")\n",
    "plt.ylabel(\"Y\")\n",
    "plt.xlim([-6, 6])\n",
    "plt.ylim([-100, 100])\n",
    "\n",
    "plt.legend(loc=2)\n",
    "plt.show()"
   ]
  },
  {
   "cell_type": "markdown",
   "metadata": {},
   "source": [
    "Below we define the necessary functions and their gradients..."
   ]
  },
  {
   "cell_type": "code",
   "execution_count": 16,
   "metadata": {
    "collapsed": true
   },
   "outputs": [],
   "source": [
    "# Gaussian prior and posterior\n",
    "prior = {'mu': 0., 'sigma':.0001}\n",
    "\n",
    "# Function for sampling from Gaussian location-scale form\n",
    "def sample_from_Gauss(mu, log_sigma):\n",
    "    e = np.random.normal()\n",
    "    return mu + np.exp(log_sigma) * e, e\n",
    "\n",
    "def logGaussPdf(x, params):\n",
    "    # params: {'mu': mean, 'sigma': standard dev.}\n",
    "    return np.sum(np.log(1./np.sqrt(2*np.pi*params['sigma']**2)) + ((-.5/params['sigma']**2) * (x-params['mu'])**2))\n",
    "\n",
    "# Regression NN with one hidden layer of 50 units\n",
    "def logModel(W, b, x, y):\n",
    "    h = np.maximum(np.dot(x, W[:, :50]) + b[:, :50], 0.)\n",
    "    y_hat = np.dot(h, W[:, 50:].T) + b[:, 50:]\n",
    "    return np.sum( .5 * (y - y_hat)**2 )\n",
    "\n",
    "def fprop(W, b, x):\n",
    "    h = np.maximum(np.dot(x, W[:, :50]) + b[:, :50], 0.)\n",
    "    return np.dot(h, W[:, 50:].T) + b[:, 50:]\n",
    "\n",
    "# Gauss-to-Gauss KLD\n",
    "def gaussKLD(mu, log_sigma, prior_mu=prior['mu'], prior_sigma=prior['sigma']):\n",
    "    kl = -np.log(prior_sigma**2)\n",
    "    kl += -(np.exp(2*log_sigma) + (mu - prior_mu)**2)/(prior_sigma**2)\n",
    "    kl += 2*log_sigma + 1.\n",
    "    return -0.5*kl.mean()\n",
    "\n",
    "\n",
    "### GET DERIVATIVES ###\n",
    "\n",
    "# d log p(X | \\theta) / d \\theta\n",
    "dLogModel_dW = grad(logModel)\n",
    "dLogModel_db = grad(lambda b, W, x, y: logModel(W, b, x, y))\n",
    "\n",
    "# d log p(\\theta) / d \\theta\n",
    "dLogGauss_dX = grad(lambda x, mu, log_sigma: logGaussPdf(x, {'mu':mu, 'sigma': np.exp(log_sigma)}))\n",
    "dLogGauss_dMu = grad(lambda mu, x, log_sigma: logGaussPdf(x, {'mu':mu, 'sigma': np.exp(log_sigma)}))\n",
    "dLogGauss_dLogSig = grad(lambda log_sigma, x, mu: logGaussPdf(x, {'mu':mu, 'sigma': np.exp(log_sigma)}))\n",
    "\n",
    "# d entropy / d log_sigma\n",
    "dKLD_dmu = grad(gaussKLD)\n",
    "dKLD_dLogSigma = grad(lambda p1, p2: gaussKLD(p2, p1))"
   ]
  },
  {
   "cell_type": "markdown",
   "metadata": {},
   "source": [
    "###  Variational Inference via ELBO\n",
    "\n",
    "Now let's fit a Gaussian approximation--$q(\\boldsymbol{\\theta};\\boldsymbol{\\phi}) \\ = \\ \\text{N}(\\boldsymbol{\\mu}_{\\boldsymbol{\\phi}}, \\boldsymbol{\\sigma}_{\\boldsymbol{\\phi}})$--via the ELBO..."
   ]
  },
  {
   "cell_type": "code",
   "execution_count": 17,
   "metadata": {
    "collapsed": false
   },
   "outputs": [],
   "source": [
    "### INIT VARIATIONAL PARAMS \n",
    "phi = {'mu': .001 * np.random.normal(size=(1,100)), 'log_sigma': .0001*np.ones((1,100)), 'b': np.zeros((1,51))}\n",
    "\n",
    "\n",
    "### ELBO OPTIMIZATION\n",
    "maxEpochs = 200\n",
    "learning_rate = .01\n",
    "adam_values = {'mu':{'mean': 0., 'var': 0., 't': 0}, \n",
    "               'log_sigma':{'mean': 0., 'var': 0., 't': 0}, \n",
    "               'b':{'mean': 0., 'var': 0., 't': 0}}\n",
    "\n",
    "n_samples = 50\n",
    "for epochIdx in range(maxEpochs):\n",
    "    \n",
    "    elbo_val, elbo_grad_mu, elbo_grad_log_sigma, dModel_db = 0., 0., 0., 0.\n",
    "    for s in range(n_samples):\n",
    "        \n",
    "        W_hat, rand_seed = sample_from_Gauss(phi['mu'], phi['log_sigma'])\n",
    "        dModel_dW = dLogModel_dW(W_hat, phi['b'], x, y) \n",
    "        elbo_grad_mu += 1./n_samples * dModel_dW * 1.\n",
    "        elbo_grad_log_sigma += 1./n_samples * dModel_dW * rand_seed * np.exp(phi['log_sigma'])\n",
    "        \n",
    "        dModel_db += 1./n_samples * dLogModel_db(phi['b'], W_hat, x, y)\n",
    "        elbo_val += 1./n_samples * logModel(W_hat, phi['b'], x, y)\n",
    "        \n",
    "    elbo_grad_mu -= dKLD_dmu(phi['mu'], phi['log_sigma'])  \n",
    "    elbo_grad_log_sigma -= dKLD_dLogSigma(phi['log_sigma'], phi['mu'])\n",
    "    elbo_val -= gaussKLD(phi['mu'], phi['log_sigma'])\n",
    "        \n",
    "    phi['mu'] += get_AdaM_update(learning_rate, elbo_grad_mu , adam_values['mu'])  \n",
    "    phi['log_sigma'] += get_AdaM_update(learning_rate, elbo_grad_log_sigma, adam_values['log_sigma']) \n",
    "    phi['b'] += get_AdaM_update(learning_rate, dModel_db, adam_values['b']) "
   ]
  },
  {
   "cell_type": "markdown",
   "metadata": {},
   "source": [
    "And get an MC estimate of the predictive uncertainty..."
   ]
  },
  {
   "cell_type": "code",
   "execution_count": 18,
   "metadata": {
    "collapsed": false
   },
   "outputs": [],
   "source": [
    "n_samples = 500\n",
    "predictions = []\n",
    "for s in range(n_samples):\n",
    "        \n",
    "    W_hat, rand_seed = sample_from_Gauss(phi['mu'], phi['log_sigma'])\n",
    "    y_hat = fprop(W_hat, phi['b'], x_true[np.newaxis].T)\n",
    "    predictions.append(y_hat)\n",
    "    \n",
    "predictions = np.array(predictions)[:,:,0]\n",
    "elbo_pred_mean = np.mean(predictions, axis=0)\n",
    "elbo_pred_std = np.std(predictions, axis=0)"
   ]
  },
  {
   "cell_type": "markdown",
   "metadata": {},
   "source": [
    "###  Variational Inference via PBBVI\n",
    "\n",
    "Next let's fit the same Gaussian approximation--$q(\\boldsymbol{\\theta};\\boldsymbol{\\phi}) \\ = \\ \\text{N}(\\boldsymbol{\\mu}_{\\boldsymbol{\\phi}}, \\boldsymbol{\\sigma}_{\\boldsymbol{\\phi}})$--but via the third-order perturbative BBVI bound.  Note we need to optimize $V_{0}$ in addition to the variational parameters..."
   ]
  },
  {
   "cell_type": "code",
   "execution_count": 19,
   "metadata": {
    "collapsed": false
   },
   "outputs": [],
   "source": [
    "### INIT VARIATIONAL PARAMS \n",
    "phi = {'mu': .001 * np.random.normal(size=(1,100)), 'log_sigma': .0001*np.ones((1,100)), \n",
    "       'V0': 0., 'b': np.zeros((1,51))}\n",
    "\n",
    "\n",
    "### PBBVI OPTIMIZATION\n",
    "#maxEpochs = 200\n",
    "#learning_rate = .001\n",
    "adam_values = {'mu':{'mean': 0., 'var': 0., 't': 0}, \n",
    "               'log_sigma':{'mean': 0., 'var': 0., 't': 0}, \n",
    "               'V0':{'mean': 0., 'var': 0., 't': 0}, \n",
    "               'b':{'mean': 0., 'var': 0., 't': 0}}\n",
    "\n",
    "n_samples = 50\n",
    "for epochIdx in range(maxEpochs):\n",
    "    \n",
    "    negV_val, negV_grad_mu, negV_grad_log_sigma, dModel_db = 0., 0., 0., 0.\n",
    "    for s in range(n_samples):\n",
    "        \n",
    "        W_hat, rand_seed = sample_from_Gauss(phi['mu'], phi['log_sigma'])\n",
    "        dModel_dW = dLogModel_dW(W_hat, phi['b'], x, y) \n",
    "        negV_grad_mu += 1./n_samples * ((dModel_dW + dLogGauss_dX(W_hat, prior['mu'], np.log(prior['sigma']))) * 1. \\\n",
    "                                        - dLogGauss_dMu(phi['mu'], W_hat, phi['log_sigma']))\n",
    "        negV_grad_log_sigma += 1./n_samples * ((dModel_dW + dLogGauss_dX(W_hat, prior['mu'], np.log(prior['sigma']))) * rand_seed * np.exp(phi['log_sigma']) \\\n",
    "                                               - dLogGauss_dLogSig(phi['log_sigma'], W_hat, phi['mu']))\n",
    "        \n",
    "        dModel_db += 1./n_samples * dLogModel_db(phi['b'], W_hat, x, y)\n",
    "        \n",
    "        negV_val += 1./n_samples * (logModel(W_hat, phi['b'], x, y) \\\n",
    "                                    + logGaussPdf(W_hat, prior) \\\n",
    "                                    - logGaussPdf(W_hat, {'mu': phi['mu'], 'sigma': np.exp(phi['log_sigma'])}))\n",
    "        \n",
    "    \n",
    "    # gradient for V0: \\tilde L / V0 - \\tilde V0 (see Section 3.2)\n",
    "    tilde_L = 1 + (phi['V0'] + negV_val) + 1./2 * (phi['V0'] + negV_val)**2 + 1./6 * (phi['V0'] + negV_val)**3\n",
    "    dtildeL_dV0 = 1 + (phi['V0'] + negV_val) + 1./2 * (phi['V0'] + negV_val)**2\n",
    "    ppvi_grad_V0 = dtildeL_dV0 - tilde_L\n",
    "    \n",
    "    # gradient for \\mu and \\log_sigma\n",
    "    ppvi_grad_mu = negV_grad_mu + (phi['V0'] + negV_val) * negV_grad_mu + .5 * (phi['V0'] + negV_val)**2 * negV_grad_mu\n",
    "    ppvi_grad_log_sigma = negV_grad_log_sigma + (phi['V0'] + negV_val) * negV_grad_log_sigma + .5 * (phi['V0'] + negV_val)**2 * negV_grad_log_sigma\n",
    "        \n",
    "    phi['mu'] += get_AdaM_update(learning_rate, ppvi_grad_mu, adam_values['mu'])  \n",
    "    phi['log_sigma'] += get_AdaM_update(learning_rate, ppvi_grad_log_sigma, adam_values['log_sigma']) \n",
    "    phi['V0'] += get_AdaM_update(learning_rate, ppvi_grad_V0, adam_values['V0'])\n",
    "    phi['b'] += get_AdaM_update(learning_rate, dModel_db, adam_values['b']) "
   ]
  },
  {
   "cell_type": "markdown",
   "metadata": {},
   "source": [
    "And get an MC estimate of the predictive uncertainty..."
   ]
  },
  {
   "cell_type": "code",
   "execution_count": 20,
   "metadata": {
    "collapsed": false
   },
   "outputs": [],
   "source": [
    "n_samples = 500\n",
    "predictions = []\n",
    "for s in range(n_samples):\n",
    "        \n",
    "    W_hat, rand_seed = sample_from_Gauss(phi['mu'], phi['log_sigma'])\n",
    "    y_hat = fprop(W_hat, phi['b'], x_true[np.newaxis].T)\n",
    "    predictions.append(y_hat)\n",
    "    \n",
    "predictions = np.array(predictions)[:,:,0]\n",
    "pbbvi_pred_mean = np.mean(predictions, axis=0)\n",
    "pbbvi_pred_std = np.std(predictions, axis=0)"
   ]
  },
  {
   "cell_type": "markdown",
   "metadata": {},
   "source": [
    "Lastly, let's visualize the uncertainty bands..."
   ]
  },
  {
   "cell_type": "code",
   "execution_count": 21,
   "metadata": {
    "collapsed": false
   },
   "outputs": [
    {
     "data": {
      "image/png": "[encoded data removed]",
      "text/plain": [
       "<matplotlib.figure.Figure at 0x1124b0110>"
      ]
     },
     "metadata": {},
     "output_type": "display_data"
    }
   ],
   "source": [
    "### Plotting ###    \n",
    "plt.fill_between(x_true, pbbvi_pred_mean-2.*pbbvi_pred_std, pbbvi_pred_mean+2.*pbbvi_pred_std, facecolor='green', interpolate=True, alpha=.2)\n",
    "plt.fill_between(x_true, elbo_pred_mean-2.*elbo_pred_std, elbo_pred_mean+2.*elbo_pred_std, facecolor='red', interpolate=True, alpha=.2)\n",
    "plt.scatter(x, y, s=150, c='k', marker='x', linewidths=5)\n",
    "plt.plot(x_true, y_true, '-k', linewidth=5.)\n",
    "plt.plot(x_true, elbo_pred_mean, 'r-', linewidth=4.)\n",
    "plt.plot(x_true, pbbvi_pred_mean, 'g-', linewidth=4.)\n",
    "\n",
    "plt.xlim([-6, 6])\n",
    "plt.ylim([-100, 100])\n",
    "plt.ylabel(r\"$\\mathbf{Y}$\", fontsize=20)\n",
    "plt.xlabel(r\"$\\mathbf{X}$\", fontsize=20)\n",
    "plt.tight_layout(pad=0.4, w_pad=0.5, h_pad=1.0)\n",
    "plt.show()"
   ]
  },
  {
   "cell_type": "markdown",
   "metadata": {},
   "source": [
    "We see that, indeed, PBBVI seems to learn a better fit and larger uncertainty bands."
   ]
  }
 ],
 "metadata": {
  "kernelspec": {
   "display_name": "Python 2",
   "language": "python",
   "name": "python2"
  },
  "language_info": {
   "codemirror_mode": {
    "name": "ipython",
    "version": 2
   },
   "file_extension": ".py",
   "mimetype": "text/x-python",
   "name": "python",
   "nbconvert_exporter": "python",
   "pygments_lexer": "ipython2",
   "version": "2.7.11"
  }
 },
 "nbformat": 4,
 "nbformat_minor": 1
}

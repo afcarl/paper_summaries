{
 "cells": [
  {
   "cell_type": "code",
   "execution_count": 1,
   "metadata": {
    "collapsed": false
   },
   "outputs": [],
   "source": [
    "from IPython.display import Image\n",
    "import itertools\n",
    "\n",
    "import matplotlib\n",
    "import matplotlib.pyplot as plt\n",
    "import matplotlib.mlab as mlab\n",
    "\n",
    "import autograd.numpy as np\n",
    "from autograd import grad\n",
    "\n",
    "%matplotlib inline"
   ]
  },
  {
   "cell_type": "markdown",
   "metadata": {},
   "source": [
    "Let's define a function to perform [AdaM](https://arxiv.org/abs/1412.6980) updates..."
   ]
  },
  {
   "cell_type": "code",
   "execution_count": 2,
   "metadata": {
    "collapsed": false
   },
   "outputs": [],
   "source": [
    "# AdaM: Adaptive Moments Optimizer\n",
    "## Params\n",
    "### alpha0: base learning rate\n",
    "### grad: current gradient\n",
    "### adam_values: dictionary containing moment estimates\n",
    "\n",
    "def get_AdaM_update(alpha_0, grad, adam_values, b1=.95, b2=.999, e=1e-8):\n",
    "    adam_values['t'] += 1\n",
    "\n",
    "    # update mean                                                                                                                                                                                                     \n",
    "    adam_values['mean'] = b1 * adam_values['mean'] + (1-b1) * grad\n",
    "    m_hat = adam_values['mean'] / (1-b1**adam_values['t'])\n",
    "\n",
    "    # update variance                                                                                                                                                                                                 \n",
    "    adam_values['var'] = b2 * adam_values['var'] + (1-b2) * grad**2\n",
    "    v_hat = adam_values['var'] / (1-b2**adam_values['t'])\n",
    "\n",
    "    return alpha_0 * m_hat/(np.sqrt(v_hat) + e)"
   ]
  },
  {
   "cell_type": "markdown",
   "metadata": {},
   "source": [
    "## 1.  [Perturbative Black Box VI](https://arxiv.org/abs/1709.07433)\n",
    "\n",
    "Consider the quantity $$ V(\\boldsymbol{\\theta}; \\boldsymbol{\\phi}) = -\\log p(\\mathbf{X}, \\boldsymbol{\\theta}) + \\log q(\\boldsymbol{\\theta}; \\boldsymbol{\\phi}),$$ which is just the negative of the [*Evidence Lower Bound* (ELBO)](http://www.umiacs.umd.edu/~xyang35/files/understanding-variational-lower.pdf) without the enclosing expectation (i.e. ELBO $= \\mathbb{E}_{q}[- V(\\boldsymbol{\\theta}; \\boldsymbol{\\phi})]$).  Perturbative black box variational inference (PBBVI) considers the quantity: $$ p(\\mathbf{X}) = \\mathbb{E}_{q(\\boldsymbol{\\theta}; \\boldsymbol{\\phi})}[ f(e^{- V(\\boldsymbol{\\theta}; \\boldsymbol{\\phi})})].$$  When $f$ is the identity function, the objective becomes [an importance weighted estimate of evidence](https://arxiv.org/abs/1509.00519), and when $f$ is $\\log$, then the ELBO is recovered.  Things get interesting when we consider functions between the aforementioned two.  Bamler et al. propose using an odd-ordered Taylor expansion around some point $V_{0}$.  For order three, we have: $$ p(\\mathbf{X}) \\ge e^{-V_{0}} \\mathbb{E}_{q(\\boldsymbol{\\theta}; \\boldsymbol{\\phi})}[ 1 + (V_{0} - V(\\boldsymbol{\\theta}; \\boldsymbol{\\phi})) + \\frac{1}{2} (V_{0} - V(\\boldsymbol{\\theta}; \\boldsymbol{\\phi}))^{2} + \\frac{1}{6} (V_{0} - V(\\boldsymbol{\\theta}; \\boldsymbol{\\phi}))^{3} ].$$  $V(\\boldsymbol{\\theta}; \\boldsymbol{\\phi})$ enters the equation polynomially, not exponentially, and thus a Monte Carlo estimate of the objective has lower variance than the importance sampled direct estimate (i.e. $f$ is the identity).  Moreover, the bound is tighter than the ELBO, thus giving the best of both objectives.   "
   ]
  },
  {
   "cell_type": "markdown",
   "metadata": {},
   "source": [
    "## 2.  Experiment: Mixture Density\n",
    "\n",
    "We are going to demonstrate all techniques on a simulated posterior.  As posteriors in the wild are often multimodal, we'll use a Gaussian mixture as our demonstration..."
   ]
  },
  {
   "cell_type": "code",
   "execution_count": 3,
   "metadata": {
    "collapsed": false
   },
   "outputs": [],
   "source": [
    "# Gaussian\n",
    "def gaussPdf(x, params):\n",
    "    # params: {'mu': mean, 'sigma': standard dev.}\n",
    "    return (1./np.sqrt(2*np.pi*params['sigma']**2)) * np.exp((-.5/params['sigma']**2) * np.sum((x-params['mu'])**2))\n",
    "\n",
    "# 2D Gaussian Mixture\n",
    "def logGaussMixPDF(x, params):\n",
    "    # params: {'pi': list of weights, 'mu': list of means, 'sigma': list of standard devs}\n",
    "    return np.log(params['pi'][0] * gaussPdf(x, {'mu':params['mu'][0], 'sigma':params['sigma'][0]}) \\\n",
    "            + params['pi'][1] * gaussPdf(x, {'mu':params['mu'][1], 'sigma':params['sigma'][1]}))"
   ]
  },
  {
   "cell_type": "markdown",
   "metadata": {},
   "source": [
    "Let's choose the parameters and plot the density..."
   ]
  },
  {
   "cell_type": "code",
   "execution_count": 4,
   "metadata": {
    "collapsed": false
   },
   "outputs": [
    {
     "data": {
      "image/png": "[encoded data removed]",
      "text/plain": [
       "<matplotlib.figure.Figure at 0x1066219d0>"
      ]
     },
     "metadata": {},
     "output_type": "display_data"
    }
   ],
   "source": [
    "true_posterior_params = {\n",
    "    'mu': [-4,3],\n",
    "    'sigma': [1, 3],\n",
    "    'pi': [.3, .7]\n",
    "}\n",
    "\n",
    "plt.figure()\n",
    "\n",
    "theta_grid = np.linspace(-10, 10, 1000)\n",
    "\n",
    "probs_true = [np.exp(logGaussMixPDF(z, true_posterior_params)) for z in theta_grid]\n",
    "plt.plot(theta_grid, probs_true, 'b-', linewidth=5, label=\"True Posterior\")\n",
    "\n",
    "plt.xlabel(r\"$\\theta$\")\n",
    "plt.xlim([-10,10])\n",
    "plt.ylim([0,.25])\n",
    "plt.legend()\n",
    "\n",
    "plt.show()"
   ]
  },
  {
   "cell_type": "markdown",
   "metadata": {},
   "source": [
    "###  Variational Inference via ELBO\n",
    "\n",
    "Now let's fit a Gaussian approximation--$q(\\boldsymbol{\\theta};\\boldsymbol{\\phi}) \\ = \\ \\text{N}(\\boldsymbol{\\mu}_{\\boldsymbol{\\phi}}, \\boldsymbol{\\sigma}_{\\boldsymbol{\\phi}})$--via the ELBO..."
   ]
  },
  {
   "cell_type": "code",
   "execution_count": 5,
   "metadata": {
    "collapsed": false
   },
   "outputs": [],
   "source": [
    "# Entropy of Gaussian\n",
    "def gaussEntropy(log_sigma):\n",
    "    return .5 * np.mean(np.log(2*np.pi*np.e) + 2.*log_sigma)\n",
    "\n",
    "# Function for sampling from Gaussian location-scale form\n",
    "def sample_from_Gauss(mu, log_sigma):\n",
    "    e = np.random.normal()\n",
    "    return mu + np.exp(log_sigma) * e, e\n",
    "\n",
    "\n",
    "### GET DERIVATIVES ###\n",
    "\n",
    "# d log p(X, \\theta) / d \\theta\n",
    "logModel = logGaussMixPDF\n",
    "dLogModel_dTheta = grad(logModel)\n",
    "\n",
    "# d theta / d log_sigma\n",
    "### we'll implement this ourselves\n",
    "\n",
    "# d entropy / d log_sigma\n",
    "dEntropy_dLogSigma = grad(gaussEntropy)"
   ]
  },
  {
   "cell_type": "markdown",
   "metadata": {},
   "source": [
    "Now lets initialize the variational parameters and optimize the ELBO..."
   ]
  },
  {
   "cell_type": "code",
   "execution_count": 6,
   "metadata": {
    "collapsed": false
   },
   "outputs": [
    {
     "name": "stdout",
     "output_type": "stream",
     "text": [
      "{'mu': 1.4819512849313834, 'log_sigma': 1.203520807137715}\n"
     ]
    }
   ],
   "source": [
    "### INIT VARIATIONAL PARAMS \n",
    "phi = {'mu':-5., 'log_sigma':0.}\n",
    "\n",
    "\n",
    "### ELBO OPTIMIZATION\n",
    "maxEpochs = 750\n",
    "learning_rate = .1\n",
    "adam_values = {'mu':{'mean': 0., 'var': 0., 't': 0}, 'log_sigma':{'mean': 0., 'var': 0., 't': 0}}\n",
    "n_samples = 10\n",
    "\n",
    "for epochIdx in range(maxEpochs):\n",
    "    \n",
    "    elbo_grad_mu, elbo_grad_log_sigma = 0., 0.\n",
    "    for s in range(n_samples):\n",
    "        \n",
    "        theta_hat, rand_seed = sample_from_Gauss(phi['mu'], phi['log_sigma'])\n",
    "        dModel_dTheta = dLogModel_dTheta(theta_hat, true_posterior_params)\n",
    "        \n",
    "        elbo_grad_mu += 1./n_samples * dModel_dTheta * 1.\n",
    "        elbo_grad_log_sigma += 1./n_samples * dModel_dTheta * rand_seed * np.exp(phi['log_sigma'])\n",
    "        \n",
    "    elbo_grad_log_sigma += dEntropy_dLogSigma(phi['log_sigma'])\n",
    "        \n",
    "    phi['mu'] += get_AdaM_update(learning_rate, elbo_grad_mu, adam_values['mu'])  \n",
    "    phi['log_sigma'] += get_AdaM_update(learning_rate, elbo_grad_log_sigma, adam_values['log_sigma']) \n",
    "        \n",
    "print phi"
   ]
  },
  {
   "cell_type": "markdown",
   "metadata": {},
   "source": [
    "Let's visualize the results..."
   ]
  },
  {
   "cell_type": "code",
   "execution_count": 7,
   "metadata": {
    "collapsed": false
   },
   "outputs": [
    {
     "data": {
      "image/png": "[encoded data removed]",
      "text/plain": [
       "<matplotlib.figure.Figure at 0x1124f38d0>"
      ]
     },
     "metadata": {},
     "output_type": "display_data"
    }
   ],
   "source": [
    "probs_elbo_approx = [gaussPdf(z, {'mu':phi['mu'], 'sigma':np.exp(phi['log_sigma'])}) for z in theta_grid] \n",
    "    \n",
    "plt.figure()\n",
    "\n",
    "plt.plot(theta_grid, probs_true, 'b-', linewidth=7, label=\"True Posterior\")\n",
    "plt.plot(theta_grid, probs_elbo_approx, '-r', linewidth=5, label=\"Variational Approx.\")\n",
    "\n",
    "plt.xlabel(r\"$\\theta$\")\n",
    "plt.xlim([-10,10])\n",
    "plt.ylim([0,.25])\n",
    "plt.legend()\n",
    "\n",
    "plt.show()"
   ]
  },
  {
   "cell_type": "markdown",
   "metadata": {},
   "source": [
    "###  Variational Inference via PBBVI\n",
    "\n",
    "Let's fit the Normal approximation again but with PBBVI this time.  We assume $V_{0}=0$, as done for the paper's similar experiment..."
   ]
  },
  {
   "cell_type": "code",
   "execution_count": 8,
   "metadata": {
    "collapsed": false
   },
   "outputs": [
    {
     "name": "stdout",
     "output_type": "stream",
     "text": [
      "{'mu': 1.2800101740121075, 'log_sigma': 1.3681604324867422}\n"
     ]
    }
   ],
   "source": [
    "### INIT VARIATIONAL PARAMS \n",
    "phi = {'mu':-5., 'log_sigma':0.}\n",
    "\n",
    "\n",
    "### ELBO OPTIMIZATION\n",
    "maxEpochs = 750\n",
    "learning_rate = .1\n",
    "adam_values = {'mu':{'mean': 0., 'var': 0., 't': 0}, 'log_sigma':{'mean': 0., 'var': 0., 't': 0}}\n",
    "n_samples = 10\n",
    "\n",
    "for epochIdx in range(maxEpochs):\n",
    "    \n",
    "    elbo_val, elbo_grad_mu, elbo_grad_log_sigma = 0., 0., 0.\n",
    "    for s in range(n_samples):\n",
    "        \n",
    "        theta_hat, rand_seed = sample_from_Gauss(phi['mu'], phi['log_sigma'])\n",
    "        dModel_dTheta = dLogModel_dTheta(theta_hat, true_posterior_params)\n",
    "        elbo_val += 1./n_samples * logModel(theta_hat, true_posterior_params)\n",
    "        \n",
    "        elbo_grad_mu += 1./n_samples * dModel_dTheta * 1.\n",
    "        elbo_grad_log_sigma += 1./n_samples * dModel_dTheta * rand_seed * np.exp(phi['log_sigma'])\n",
    "        \n",
    "    elbo_grad_log_sigma += dEntropy_dLogSigma(phi['log_sigma'])\n",
    "    elbo_val += gaussEntropy(phi['log_sigma'])\n",
    "    \n",
    "    ppvi_grad_mu = elbo_grad_mu + elbo_val * elbo_grad_mu + .5 * elbo_val**2 * elbo_grad_mu\n",
    "    ppvi_grad_log_sigma = elbo_grad_log_sigma + elbo_val * elbo_grad_log_sigma + .5 * elbo_val**2 * elbo_grad_log_sigma\n",
    "        \n",
    "    phi['mu'] += get_AdaM_update(learning_rate, ppvi_grad_mu, adam_values['mu'])  \n",
    "    phi['log_sigma'] += get_AdaM_update(learning_rate, ppvi_grad_log_sigma, adam_values['log_sigma']) \n",
    "        \n",
    "print phi"
   ]
  },
  {
   "cell_type": "code",
   "execution_count": 9,
   "metadata": {
    "collapsed": false
   },
   "outputs": [
    {
     "data": {
      "image/png": "[encoded data removed]",
      "text/plain": [
       "<matplotlib.figure.Figure at 0x112400f10>"
      ]
     },
     "metadata": {},
     "output_type": "display_data"
    }
   ],
   "source": [
    "probs_pbbvi_approx = [gaussPdf(z, {'mu':phi['mu'], 'sigma':np.exp(phi['log_sigma'])}) for z in theta_grid] \n",
    "    \n",
    "plt.figure()\n",
    "\n",
    "plt.plot(theta_grid, probs_true, 'b-', linewidth=7, label=\"True Posterior\")\n",
    "plt.plot(theta_grid, probs_elbo_approx, '-r', linewidth=5, label=\"ELBO\")\n",
    "plt.plot(theta_grid, probs_pbbvi_approx, '-g', linewidth=5, label=\"Perturb. BBVI\")\n",
    "\n",
    "plt.xlabel(r\"$\\theta$\")\n",
    "plt.xlim([-10,10])\n",
    "plt.ylim([0,.25])\n",
    "plt.legend()\n",
    "\n",
    "plt.show()"
   ]
  },
  {
   "cell_type": "markdown",
   "metadata": {},
   "source": [
    "We see that, indeed, PBBVI found a more dispersed approximation."
   ]
  },
  {
   "cell_type": "markdown",
   "metadata": {},
   "source": [
    "## 3.  Experiment: Regression\n",
    "\n",
    "Next we'll examine the model uncertainty in a regression setting."
   ]
  },
  {
   "cell_type": "code",
   "execution_count": 160,
   "metadata": {
    "collapsed": false
   },
   "outputs": [
    {
     "data": {
      "image/png": "[encoded data removed]",
      "text/plain": [
       "<matplotlib.figure.Figure at 0x112b06690>"
      ]
     },
     "metadata": {},
     "output_type": "display_data"
    }
   ],
   "source": [
    "# Simulate data\n",
    "N = 20\n",
    "x = np.array([np.random.uniform(-4,4) for n in range(N)])[np.newaxis].T\n",
    "y = x**3\n",
    "\n",
    "# True function\n",
    "x_true = np.linspace(start=-6, stop=6, num=1000)\n",
    "y_true = x_true**3\n",
    "\n",
    "plt.plot(x_true, y_true, 'k-')\n",
    "plt.plot(x, y, 'xk', ms=10, linewidth=1)\n",
    "\n",
    "plt.xlabel(\"X\")\n",
    "plt.ylabel(\"Y\")\n",
    "plt.xlim([-6, 6])\n",
    "plt.ylim([-100, 100])\n",
    "plt.legend(loc=2)\n",
    "plt.show()"
   ]
  },
  {
   "cell_type": "code",
   "execution_count": 161,
   "metadata": {
    "collapsed": true
   },
   "outputs": [],
   "source": [
    "# Regression Neural Network\n",
    "def logModel(W, b, x, y):\n",
    "    h = np.maximum(np.dot(x, W[:, :50]) + b[:, :50], 0.)\n",
    "    y_hat = np.dot(h, W[:, 50:].T) + b[:, 50:]\n",
    "    return np.sum( .5 * (y - y_hat)**2 )\n",
    "\n",
    "def fprop(W, b, x):\n",
    "    h = np.maximum(np.dot(x, W[:, :50]) + b[:, :50], 0.)\n",
    "    return np.dot(h, W[:, 50:].T) + b[:, 50:]\n",
    "\n",
    "# Gauss-to-Gauss KLD\n",
    "def gaussKLD(mu, log_sigma, prior_mu=0., prior_sigma=.0001):\n",
    "    kl = -np.log(prior_sigma**2)\n",
    "    kl += -(np.exp(2*log_sigma) + (mu - prior_mu)**2)/(prior_sigma**2)\n",
    "    kl += 2*log_sigma + 1.\n",
    "    return -0.5*kl.mean()\n",
    "\n",
    "\n",
    "### GET DERIVATIVES ###\n",
    "\n",
    "# d log p(X, \\theta) / d \\theta\n",
    "dLogModel_dW = grad(logModel)\n",
    "dLogModel_db = grad(lambda b, W, x, y: logModel(W, b, x, y))\n",
    "\n",
    "# d entropy / d log_sigma\n",
    "dKLD_dmu = grad(gaussKLD)\n",
    "dKLD_dLogSigma = grad(lambda p1, p2: gaussKLD(p2, p1))"
   ]
  },
  {
   "cell_type": "markdown",
   "metadata": {},
   "source": [
    "###  Variational Inference via ELBO\n",
    "\n",
    "Now let's fit a Gaussian approximation--$q(\\boldsymbol{\\theta};\\boldsymbol{\\phi}) \\ = \\ \\text{N}(\\boldsymbol{\\mu}_{\\boldsymbol{\\phi}}, \\boldsymbol{\\sigma}_{\\boldsymbol{\\phi}})$--via the ELBO..."
   ]
  },
  {
   "cell_type": "code",
   "execution_count": 162,
   "metadata": {
    "collapsed": false
   },
   "outputs": [],
   "source": [
    "### INIT VARIATIONAL PARAMS \n",
    "phi = {'mu': .001 * np.random.normal(size=(1,100)), 'log_sigma': .0001*np.ones((1,100)), 'b': np.zeros((1,51))}\n",
    "\n",
    "\n",
    "### ELBO OPTIMIZATION\n",
    "maxEpochs = 200\n",
    "learning_rate = .01\n",
    "adam_values = {'mu':{'mean': 0., 'var': 0., 't': 0}, \n",
    "               'log_sigma':{'mean': 0., 'var': 0., 't': 0}, \n",
    "               'b':{'mean': 0., 'var': 0., 't': 0}}\n",
    "\n",
    "n_samples = 50\n",
    "for epochIdx in range(maxEpochs):\n",
    "    \n",
    "    elbo_val, elbo_grad_mu, elbo_grad_log_sigma, dModel_db = 0., 0., 0., 0.\n",
    "    for s in range(n_samples):\n",
    "        \n",
    "        W_hat, rand_seed = sample_from_Gauss(phi['mu'], phi['log_sigma'])\n",
    "        dModel_dW = dLogModel_dW(W_hat, phi['b'], x, y) \n",
    "        elbo_grad_mu += 1./n_samples * dModel_dW * 1.\n",
    "        elbo_grad_log_sigma += 1./n_samples * dModel_dW * rand_seed * np.exp(phi['log_sigma'])\n",
    "        \n",
    "        dModel_db += 1./n_samples * dLogModel_db(phi['b'], W_hat, x, y)\n",
    "        elbo_val += 1./n_samples * logModel(W_hat, phi['b'], x, y)\n",
    "        \n",
    "    elbo_grad_mu -= dKLD_dmu(phi['mu'], phi['log_sigma'])  \n",
    "    elbo_grad_log_sigma -= dKLD_dLogSigma(phi['log_sigma'], phi['mu'])\n",
    "    elbo_val -= gaussKLD(phi['mu'], phi['log_sigma'])\n",
    "    \n",
    "    ppvi_grad_mu = elbo_grad_mu \n",
    "    ppvi_grad_log_sigma = elbo_grad_log_sigma \n",
    "        \n",
    "    phi['mu'] += get_AdaM_update(learning_rate, ppvi_grad_mu, adam_values['mu'])  \n",
    "    phi['log_sigma'] += get_AdaM_update(learning_rate, ppvi_grad_log_sigma, adam_values['log_sigma']) \n",
    "    phi['b'] += get_AdaM_update(learning_rate, dModel_db, adam_values['b']) "
   ]
  },
  {
   "cell_type": "code",
   "execution_count": 163,
   "metadata": {
    "collapsed": false
   },
   "outputs": [],
   "source": [
    "n_samples = 50\n",
    "predictions = []\n",
    "for s in range(n_samples):\n",
    "        \n",
    "    W_hat, rand_seed = sample_from_Gauss(phi['mu'], phi['log_sigma'])\n",
    "    y_hat = fprop(W_hat, phi['b'], x_true[np.newaxis].T)\n",
    "    predictions.append(y_hat)\n",
    "    \n",
    "predictions = np.array(predictions)[:,:,0]\n",
    "elbo_pred_mean = np.mean(predictions, axis=0)\n",
    "elbo_pred_std = np.std(predictions, axis=0)"
   ]
  },
  {
   "cell_type": "markdown",
   "metadata": {},
   "source": [
    "###  Variational Inference via PBBVI\n",
    "\n",
    "Now let's fit a Gaussian approximation--$q(\\boldsymbol{\\theta};\\boldsymbol{\\phi}) \\ = \\ \\text{N}(\\boldsymbol{\\mu}_{\\boldsymbol{\\phi}}, \\boldsymbol{\\sigma}_{\\boldsymbol{\\phi}})$--via Perturbative BBVI..."
   ]
  },
  {
   "cell_type": "code",
   "execution_count": 164,
   "metadata": {
    "collapsed": false
   },
   "outputs": [],
   "source": [
    "### INIT VARIATIONAL PARAMS \n",
    "phi = {'mu': .001 * np.random.normal(size=(1,100)), 'log_sigma': .0001*np.ones((1,100)), 'b': np.zeros((1,51))}\n",
    "\n",
    "\n",
    "### ELBO OPTIMIZATION\n",
    "maxEpochs = 200\n",
    "learning_rate = .01\n",
    "adam_values = {'mu':{'mean': 0., 'var': 0., 't': 0}, \n",
    "               'log_sigma':{'mean': 0., 'var': 0., 't': 0}, \n",
    "               'b':{'mean': 0., 'var': 0., 't': 0}}\n",
    "\n",
    "n_samples = 50\n",
    "for epochIdx in range(maxEpochs):\n",
    "    \n",
    "    elbo_val, elbo_grad_mu, elbo_grad_log_sigma, dModel_db = 0., 0., 0., 0.\n",
    "    for s in range(n_samples):\n",
    "        \n",
    "        W_hat, rand_seed = sample_from_Gauss(phi['mu'], phi['log_sigma'])\n",
    "        dModel_dW = dLogModel_dW(W_hat, phi['b'], x, y) \n",
    "        elbo_grad_mu += 1./n_samples * dModel_dW * 1.\n",
    "        elbo_grad_log_sigma += 1./n_samples * dModel_dW * rand_seed * np.exp(phi['log_sigma'])\n",
    "        \n",
    "        dModel_db += 1./n_samples * dLogModel_db(phi['b'], W_hat, x, y)\n",
    "        elbo_val += 1./n_samples * logModel(W_hat, phi['b'], x, y)\n",
    "        \n",
    "    elbo_grad_mu -= dKLD_dmu(phi['mu'], phi['log_sigma'])  \n",
    "    elbo_grad_log_sigma -= dKLD_dLogSigma(phi['log_sigma'], phi['mu'])\n",
    "    elbo_val -= gaussKLD(phi['mu'], phi['log_sigma'])\n",
    "    \n",
    "    ppvi_grad_mu = elbo_grad_mu + elbo_val * elbo_grad_mu + .5 * elbo_val**2 * elbo_grad_mu\n",
    "    ppvi_grad_log_sigma = elbo_grad_log_sigma + elbo_val * elbo_grad_log_sigma + .5 * elbo_val**2 * elbo_grad_log_sigma\n",
    "        \n",
    "    phi['mu'] += get_AdaM_update(learning_rate, ppvi_grad_mu, adam_values['mu'])  \n",
    "    phi['log_sigma'] += get_AdaM_update(learning_rate, ppvi_grad_log_sigma, adam_values['log_sigma']) \n",
    "    phi['b'] += get_AdaM_update(learning_rate, dModel_db, adam_values['b']) "
   ]
  },
  {
   "cell_type": "code",
   "execution_count": 165,
   "metadata": {
    "collapsed": false
   },
   "outputs": [],
   "source": [
    "n_samples = 50\n",
    "predictions = []\n",
    "for s in range(n_samples):\n",
    "        \n",
    "    W_hat, rand_seed = sample_from_Gauss(phi['mu'], phi['log_sigma'])\n",
    "    y_hat = fprop(W_hat, phi['b'], x_true[np.newaxis].T)\n",
    "    predictions.append(y_hat)\n",
    "    \n",
    "predictions = np.array(predictions)[:,:,0]\n",
    "pbbvi_pred_mean = np.mean(predictions, axis=0)\n",
    "pbbvi_pred_std = np.std(predictions, axis=0)"
   ]
  },
  {
   "cell_type": "code",
   "execution_count": 166,
   "metadata": {
    "collapsed": false
   },
   "outputs": [
    {
     "data": {
      "image/png": "[encoded data removed]",
      "text/plain": [
       "<matplotlib.figure.Figure at 0x112bcd7d0>"
      ]
     },
     "metadata": {},
     "output_type": "display_data"
    }
   ],
   "source": [
    "### Plotting ###    \n",
    "plt.fill_between(x_true, pbbvi_pred_mean-2.*pbbvi_pred_std, pbbvi_pred_mean+2.*pbbvi_pred_std, facecolor='green', interpolate=True, alpha=.2)\n",
    "plt.fill_between(x_true, elbo_pred_mean-2.*elbo_pred_std, elbo_pred_mean+2.*elbo_pred_std, facecolor='red', interpolate=True, alpha=.2)\n",
    "plt.scatter(x, y, s=150, c='k', marker='x', linewidths=5)\n",
    "plt.plot(x_true, y_true, '-k', linewidth=5.)\n",
    "plt.plot(x_true, elbo_pred_mean, 'r-', linewidth=4.)\n",
    "plt.plot(x_true, pbbvi_pred_mean, 'g-', linewidth=4.)\n",
    "\n",
    "plt.xlim([-6, 6])\n",
    "plt.ylim([-100, 100])\n",
    "plt.ylabel(r\"$\\mathbf{Y}$\", fontsize=30)\n",
    "plt.xlabel(r\"$\\mathbf{X}$\", fontsize=30)\n",
    "plt.tight_layout(pad=0.4, w_pad=0.5, h_pad=1.0)\n",
    "plt.show()"
   ]
  }
 ],
 "metadata": {
  "kernelspec": {
   "display_name": "Python 2",
   "language": "python",
   "name": "python2"
  },
  "language_info": {
   "codemirror_mode": {
    "name": "ipython",
    "version": 2
   },
   "file_extension": ".py",
   "mimetype": "text/x-python",
   "name": "python",
   "nbconvert_exporter": "python",
   "pygments_lexer": "ipython2",
   "version": "2.7.11"
  }
 },
 "nbformat": 4,
 "nbformat_minor": 1
}

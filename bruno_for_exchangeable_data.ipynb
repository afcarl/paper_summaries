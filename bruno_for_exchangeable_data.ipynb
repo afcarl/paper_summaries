{
 "cells": [
  {
   "cell_type": "code",
   "execution_count": 2,
   "metadata": {},
   "outputs": [],
   "source": [
    "import matplotlib\n",
    "import matplotlib.pyplot as plt\n",
    "import matplotlib.mlab as mlab\n",
    "\n",
    "import autograd.numpy as np\n",
    "from autograd import grad\n",
    "\n",
    "%matplotlib inline"
   ]
  },
  {
   "cell_type": "markdown",
   "metadata": {},
   "source": [
    "Firstly, let's define a function to perform [AdaM](https://arxiv.org/abs/1412.6980) updates..."
   ]
  },
  {
   "cell_type": "code",
   "execution_count": 3,
   "metadata": {},
   "outputs": [],
   "source": [
    "# AdaM: Adaptive Moments Optimizer\n",
    "## Params\n",
    "### alpha0: base learning rate\n",
    "### grad: current gradient\n",
    "### adam_values: dictionary containing moment estimates\n",
    "\n",
    "def get_AdaM_update(alpha_0, grad, adam_values, b1=.95, b2=.999, e=1e-8):\n",
    "    adam_values['t'] += 1\n",
    "\n",
    "    # update mean                                                                                                                                                                                                     \n",
    "    adam_values['mean'] = b1 * adam_values['mean'] + (1-b1) * grad\n",
    "    m_hat = adam_values['mean'] / (1-b1**adam_values['t'])\n",
    "\n",
    "    # update variance                                                                                                                                                                                                 \n",
    "    adam_values['var'] = b2 * adam_values['var'] + (1-b2) * grad**2\n",
    "    v_hat = adam_values['var'] / (1-b2**adam_values['t'])\n",
    "\n",
    "    return alpha_0 * m_hat/(np.sqrt(v_hat) + e)"
   ]
  },
  {
   "cell_type": "markdown",
   "metadata": {},
   "source": [
    "## 1.  [A Generative Deep Recurrent Model for Exchangeable Data](https://arxiv.org/abs/1802.07535)\n",
    "#### by [Iryna Korshunova](http://irakorshunova.github.io/about.html), [Jonas Degrave](https://scholar.google.nl/citations?user=M3bkh8MAAAAJ&hl=en), [Ferenc Huszar](http://www.inference.vc/about/), [Yarin Gal](http://www.cs.ox.ac.uk/people/yarin.gal/website/index.html), [Arthur Gretton ](http://www.gatsby.ucl.ac.uk/~gretton/), and [Joni Dambre](http://reslab.elis.ugent.be/node/224)\n",
    "\n",
    "A sequence of random variables is called *exchangeable* if their joint distribution is invariant to permutation: $$ p(\\mathbf{x}_{1},\\ldots,\\mathbf{x}_{N}) =  p(\\mathbf{x}_{\\pi(1)},\\ldots,\\mathbf{x}_{\\pi(N)})$$ where $(\\pi(1),\\ldots,\\pi(N))$ denotes a permutation of $1,\\ldots, N$.  Clearly, the usual i.i.d. assumption $p(\\mathbf{x}_{1},\\ldots,\\mathbf{x}_{N}) = \\prod_{i=1}^{N} p(\\mathbf{x}_{i})$ due to the commutativity of multiplication.  However, the i.i.d. assumption is stronger than exchangeability, and data can be correlated while still being exchangeable.  De Finetti's representation theorem gives a general condition for exchangeability, deeming data exchangeable if we can model it as conditionally independent given some latent variable $\\boldsymbol{\\theta}$: $$ p(\\mathbf{x}_{\\pi(1)},\\ldots,\\mathbf{x}_{\\pi(N)})=  \\int_{\\boldsymbol{\\theta}} p(\\boldsymbol{\\theta}) \\prod_{i=1}^{N} p(\\mathbf{x}_{i} | \\boldsymbol{\\theta}) \\ d \\boldsymbol{\\theta}.$$  De Finetti's theorem can be seen as a fundamental justification for Bayesian inference: if we assume data are exchangeable, then some prior must have generated it.  Alternatively, we can write the representation in terms of a predictive distribution $$p(\\mathbf{x}_{N+1}| \\mathbf{x}_{1},\\ldots,\\mathbf{x}_{N}) = \\int_{\\boldsymbol{\\theta}}  p(\\mathbf{x}_{N+1} | \\boldsymbol{\\theta}) p(\\boldsymbol{\\theta} | \\mathbf{x}_{1},\\ldots,\\mathbf{x}_{N}) \\ d \\boldsymbol{\\theta}.$$  While modeling exchangeable data is fairly straightforward via a Bayesian model, approximations (such as variational inference) are required to handle the above integrals when working in high-dimensions and with analytically intractable models (such as neural network likelihoods).  This is the problem that the authors' proposed method attempts to solve: defining a funtionally-rich exchangeable model that admits exact inference.        "
   ]
  },
  {
   "cell_type": "markdown",
   "metadata": {},
   "source": [
    "## 2.  BRUNO: Bayesian Recurrent Neural Model\n",
    "\n",
    "There are two core components to BRUNO.  We cover the background of both.\n",
    "\n",
    "### 2.1 Real NVP Transformations"
   ]
  },
  {
   "cell_type": "code",
   "execution_count": 8,
   "metadata": {},
   "outputs": [],
   "source": [
    "def nvp_transform(x, mu, S):\n",
    "    return mu + np.dot(x, np.exp(S))"
   ]
  },
  {
   "cell_type": "markdown",
   "metadata": {},
   "source": [
    "### 2.2 Student-t Processes\n",
    "Let's simulate some data from a cubic function...\n"
   ]
  },
  {
   "cell_type": "code",
   "execution_count": 8,
   "metadata": {},
   "outputs": [],
   "source": [
    "def log_MVT_pdf(x, params):\n",
    "    # params: {'mu': mean, 'sigma': standard dev.}\n",
    "    \n",
    "    pdf = \n",
    "    return np.sum(np.log(1./np.sqrt(2*np.pi*params['sigma']**2)) + ((-.5/params['sigma']**2) * (x-params['mu'])**2))\n",
    "\n",
    "\n",
    "def update_TP_params(z, idx, mu, mu, v, rho, z_tilde, beta):\n",
    "    \n",
    "    for j in range(D):\n",
    "        d = rho[j]/(v[j]+rho[j]*(j-1))\n",
    "    \n",
    "        nu[j] += 1\n",
    "        mu[j] = (1-d)*mu[j] + d*z[j]\n",
    "        v[j] = (1-d)*v + d*(v[j]-rho[j])\n",
    "    \n",
    "        z_tilde[idx-1, j] = z[j] - mu[j]\n",
    "        a = (v[j] + rho[j]*(idx-2))/((v[j]-rho[j])*(v[j]+rho[j]*(idx-1)))\n",
    "        b_old = b\n",
    "        b = (-rho[j])/((v[j]-rho[j])*(v[j]+rho[j]*(idx-1)))\n",
    "    \n",
    "        beta[j] = beta[j] + (a-b)*z_tilde[idx-1, j]*z_tilde[idx-1, j] + b*(np.sum(z_tilde[:idx, j])**2) - b_old*(np.sum(z_tilde[:idx-1,j])**2)"
   ]
  },
  {
   "cell_type": "markdown",
   "metadata": {},
   "source": [
    "### 2.3 BRUNO Definition"
   ]
  },
  {
   "cell_type": "markdown",
   "metadata": {},
   "source": [
    "## 3.  Experiment: 2D Density Estimation\n",
    "\n",
    "###  Simulate Data\n",
    "Let's simulate some data from a cubic function..."
   ]
  },
  {
   "cell_type": "code",
   "execution_count": 7,
   "metadata": {},
   "outputs": [
    {
     "data": {
      "image/png": "[encoded data removed]",
      "text/plain": [
       "<matplotlib.figure.Figure at 0x1120e95c0>"
      ]
     },
     "metadata": {},
     "output_type": "display_data"
    }
   ],
   "source": [
    "N = 1000\n",
    "D = 2\n",
    "\n",
    "### Create Banana Distribution\n",
    "data = np.random.normal(size=(N, D))\n",
    "z1 = 1.25*data[:,0]\n",
    "z2 = data[:,1]/1.25 - 1.5*(z1**2 + 1.25)\n",
    "data = np.hstack([z1[np.newaxis].T, z2[np.newaxis].T])\n",
    "np.random.shuffle(data)\n",
    "\n",
    "### Plot\n",
    "plt.scatter(data[:,0], data[:,1], marker='x', s=25, c='k', alpha=.7)\n",
    "plt.show()"
   ]
  },
  {
   "cell_type": "markdown",
   "metadata": {},
   "source": [
    "######  Define Functions and Auto-Differentiate\n",
    "Below we define the necessary functions (and their gradients) for a Gaussian variational approximation.  Define the model $p(\\mathbf{X} | \\boldsymbol{\\theta})$ as a one-hidden-layer neural network with 50 units, and define the prior to be $p(\\boldsymbol{\\theta}) = \\text{N}(\\mu = 0, \\sigma = .0001 )$..."
   ]
  },
  {
   "cell_type": "code",
   "execution_count": 4,
   "metadata": {
    "collapsed": true
   },
   "outputs": [],
   "source": [
    "# Gaussian prior and posterior\n",
    "prior = {'mu': 0., 'sigma':.0001}\n",
    "\n",
    "# Function for sampling from Gaussian location-scale form\n",
    "def sample_from_Gauss(mu, log_sigma):\n",
    "    e = np.random.normal()\n",
    "    return mu + np.exp(log_sigma) * e, e\n",
    "\n",
    "def logGaussPdf(x, params):\n",
    "    # params: {'mu': mean, 'sigma': standard dev.}\n",
    "    return np.sum(np.log(1./np.sqrt(2*np.pi*params['sigma']**2)) + ((-.5/params['sigma']**2) * (x-params['mu'])**2))\n",
    "\n",
    "# Regression NN with one hidden layer of 50 units\n",
    "def logModel(W, b, x, y):\n",
    "    h = np.maximum(np.dot(x, W[:, :50]) + b[:, :50], 0.)\n",
    "    y_hat = np.dot(h, W[:, 50:].T) + b[:, 50:]\n",
    "    return np.sum( .5 * -(y - y_hat)**2 )\n",
    "\n",
    "def fprop(W, b, x):\n",
    "    h = np.maximum(np.dot(x, W[:, :50]) + b[:, :50], 0.)\n",
    "    return np.dot(h, W[:, 50:].T) + b[:, 50:]\n",
    "\n",
    "# Gauss-to-Gauss KLD\n",
    "def gaussKLD(mu, log_sigma, prior_mu=prior['mu'], prior_sigma=prior['sigma']):\n",
    "    kl = -np.log(prior_sigma**2)\n",
    "    kl += -(np.exp(2*log_sigma) + (mu - prior_mu)**2)/(prior_sigma**2)\n",
    "    kl += 2*log_sigma + 1.\n",
    "    return -0.5*kl.mean()\n",
    "\n",
    "\n",
    "### GET DERIVATIVES ###\n",
    "\n",
    "# d log p(X | \\theta) / d \\theta\n",
    "dLogModel_dW = grad(logModel)\n",
    "dLogModel_db = grad(lambda b, W, x, y: logModel(W, b, x, y))\n",
    "\n",
    "# d log p(\\theta) / d \\theta\n",
    "dLogGauss_dX = grad(lambda x, mu, log_sigma: logGaussPdf(x, {'mu':mu, 'sigma': np.exp(log_sigma)}))\n",
    "dLogGauss_dMu = grad(lambda mu, x, log_sigma: logGaussPdf(x, {'mu':mu, 'sigma': np.exp(log_sigma)}))\n",
    "dLogGauss_dLogSig = grad(lambda log_sigma, x, mu: logGaussPdf(x, {'mu':mu, 'sigma': np.exp(log_sigma)}))\n",
    "\n",
    "# d KLD / d phi\n",
    "dKLD_dmu = grad(gaussKLD)\n",
    "dKLD_dLogSigma = grad(lambda p1, p2: gaussKLD(p2, p1))"
   ]
  },
  {
   "cell_type": "markdown",
   "metadata": {},
   "source": [
    "###  Variational Inference via ELBO\n",
    "\n",
    "Now let's fit a Gaussian approximation--$q(\\boldsymbol{\\theta};\\boldsymbol{\\phi}) \\ = \\ \\text{N}(\\boldsymbol{\\mu}_{\\boldsymbol{\\phi}}, \\boldsymbol{\\sigma}_{\\boldsymbol{\\phi}})$--via the ELBO..."
   ]
  },
  {
   "cell_type": "code",
   "execution_count": 5,
   "metadata": {},
   "outputs": [],
   "source": [
    "### INIT VARIATIONAL PARAMS \n",
    "phi = {'mu': .001 * np.random.normal(size=(1,100)), 'log_sigma': .0001*np.ones((1,100)), 'b': np.zeros((1,51))}\n",
    "\n",
    "\n",
    "### ELBO OPTIMIZATION\n",
    "maxEpochs = 200\n",
    "learning_rate = .01\n",
    "adam_values = {'mu':{'mean': 0., 'var': 0., 't': 0}, \n",
    "               'log_sigma':{'mean': 0., 'var': 0., 't': 0}, \n",
    "               'b':{'mean': 0., 'var': 0., 't': 0}}\n",
    "\n",
    "n_samples = 50\n",
    "for epochIdx in range(maxEpochs):\n",
    "    \n",
    "    elbo_val, elbo_grad_mu, elbo_grad_log_sigma, dModel_db = 0., 0., 0., 0.\n",
    "    for s in range(n_samples):\n",
    "        \n",
    "        W_hat, rand_seed = sample_from_Gauss(phi['mu'], phi['log_sigma'])\n",
    "        dModel_dW = dLogModel_dW(W_hat, phi['b'], x, y) \n",
    "        elbo_grad_mu += 1./n_samples * dModel_dW * 1.\n",
    "        elbo_grad_log_sigma += 1./n_samples * dModel_dW * rand_seed * np.exp(phi['log_sigma'])\n",
    "        \n",
    "        dModel_db += 1./n_samples * dLogModel_db(phi['b'], W_hat, x, y)\n",
    "        elbo_val += 1./n_samples * logModel(W_hat, phi['b'], x, y)\n",
    "        \n",
    "    elbo_grad_mu -= dKLD_dmu(phi['mu'], phi['log_sigma'])  \n",
    "    elbo_grad_log_sigma -= dKLD_dLogSigma(phi['log_sigma'], phi['mu'])\n",
    "    elbo_val -= gaussKLD(phi['mu'], phi['log_sigma'])\n",
    "        \n",
    "    phi['mu'] += get_AdaM_update(learning_rate, elbo_grad_mu , adam_values['mu'])  \n",
    "    phi['log_sigma'] += get_AdaM_update(learning_rate, elbo_grad_log_sigma, adam_values['log_sigma']) \n",
    "    phi['b'] += get_AdaM_update(learning_rate, dModel_db, adam_values['b']) "
   ]
  },
  {
   "cell_type": "markdown",
   "metadata": {},
   "source": [
    "And get an MC estimate of the predictive uncertainty..."
   ]
  }
 ],
 "metadata": {
  "kernelspec": {
   "display_name": "Python 3",
   "language": "python",
   "name": "python3"
  },
  "language_info": {
   "codemirror_mode": {
    "name": "ipython",
    "version": 3
   },
   "file_extension": ".py",
   "mimetype": "text/x-python",
   "name": "python",
   "nbconvert_exporter": "python",
   "pygments_lexer": "ipython3",
   "version": "3.5.4"
  }
 },
 "nbformat": 4,
 "nbformat_minor": 1
}

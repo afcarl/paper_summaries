{
 "cells": [
  {
   "cell_type": "code",
   "execution_count": 2,
   "metadata": {
    "collapsed": true
   },
   "outputs": [],
   "source": [
    "import itertools\n",
    "from random import shuffle\n",
    "import numpy as np\n",
    "\n",
    "import tensorflow as tf\n",
    "\n",
    "import matplotlib\n",
    "import matplotlib.pyplot as plt\n",
    "import matplotlib.mlab as mlab\n",
    "import pylab as pl\n",
    "\n",
    "from IPython import display\n",
    "%matplotlib inline"
   ]
  },
  {
   "cell_type": "markdown",
   "metadata": {},
   "source": [
    "## [Learning Generative Models with Sinkhorn Divergences](https://arxiv.org/abs/1706.00292)\n",
    "### by Aude Genevay, Gabriel Peyré, and Marco Cuturi"
   ]
  },
  {
   "cell_type": "markdown",
   "metadata": {},
   "source": [
    "This paper proposes the *Sinkhorn divergence*, an optimal transport (OT) based optimization objective amenable to auto-differentiation.  "
   ]
  },
  {
   "cell_type": "markdown",
   "metadata": {},
   "source": [
    "### 0.  Data"
   ]
  },
  {
   "cell_type": "markdown",
   "metadata": {},
   "source": [
    "Throughout this notebook, we'll use data drawn from a Gaussian Mixture Model (GMM).  Here is a function to draw samples from a GMM..."
   ]
  },
  {
   "cell_type": "code",
   "execution_count": 3,
   "metadata": {
    "collapsed": false
   },
   "outputs": [],
   "source": [
    "# Draw sample from mixture model\n",
    "# k ~ Mult(pi)\n",
    "# z ~ f_k\n",
    "def draw_samples(pi_arr, mu_arr, cov_arr, n_samples=100):\n",
    "    comp_arr = np.random.multinomial(n_samples, pi_arr)\n",
    "    z = []\n",
    "    y = []\n",
    "    for idx, count in enumerate(comp_arr):\n",
    "        for c in xrange(count):\n",
    "            y.append(idx)\n",
    "            z.append(np.random.multivariate_normal(mu_s[idx], cov_s[idx]))\n",
    "    return np.array(z), np.array(y)[np.newaxis].T\n",
    "\n",
    "def shuffle_in_unison_inplace(a, b):\n",
    "    assert a.shape[0] == b.shape[0]\n",
    "    p = np.random.permutation(a.shape[0])\n",
    "    return a[p], b[p]"
   ]
  },
  {
   "cell_type": "markdown",
   "metadata": {},
   "source": [
    "Let's generate some training data..."
   ]
  },
  {
   "cell_type": "code",
   "execution_count": 4,
   "metadata": {
    "collapsed": false
   },
   "outputs": [],
   "source": [
    "N = 300 # number of datapoints \n",
    "input_d = 2\n",
    "\n",
    "# Define mixture model\n",
    "pi = np.array([.35, .65])\n",
    "mu_s = [np.array([-5., -5.]), np.array([5., 5.])]\n",
    "cov_s = [np.array([[1., 0.], [0., 1.]]), np.array([[1., 0.], [0., 1.]])]\n",
    "\n",
    "# draw_samples\n",
    "X_train, y_train = draw_samples(pi, mu_s, cov_s, N)\n",
    "\n",
    "# shuffle \n",
    "X_train, y_train = shuffle_in_unison_inplace(X_train,y_train)"
   ]
  },
  {
   "cell_type": "code",
   "execution_count": 10,
   "metadata": {
    "collapsed": true
   },
   "outputs": [],
   "source": [
    "def cost(X, Y):\n",
    "    return tf.reduce_sum((X - Y)**2, keep_dims=True)\n",
    "\n",
    "def sinkhorn_loss(X, Y, epsilon=1., L=3, n=10):\n",
    "    c = np.zeros((n, n)).tolist()\n",
    "    \n",
    "    for i in range(n):\n",
    "        for j in range(n):\n",
    "            c[i][j] = cost(X[i, :], Y[j, :]) \n",
    "    \n",
    "    c = tf.concat(1, [tf.expand_dims(tf.concat(0, t), 1) for t in c])\n",
    "    K = tf.exp(-c/epsilon) \n",
    "    \n",
    "    a = tf.ones((n, 1))\n",
    "    b = tf.ones((n, 1))\n",
    "    for l in range(L):\n",
    "        a = 1./tf.matmul(K, b)\n",
    "        b = 1./tf.matmul(tf.transpose(K), a)\n",
    "    \n",
    "    return tf.matmul(tf.transpose(tf.matmul(tf.mul(K, c), b)), a)"
   ]
  },
  {
   "cell_type": "markdown",
   "metadata": {},
   "source": [
    "Now let's define a neural network instead of a regression model..."
   ]
  },
  {
   "cell_type": "code",
   "execution_count": 11,
   "metadata": {
    "collapsed": true
   },
   "outputs": [],
   "source": [
    "def init_neural_net(layer_sizes, std=.001):\n",
    "    # layer_sizes is a list of the input size, hidden layer sizes, and output size\n",
    "    params = {'w':[], 'b':[]}\n",
    "    for n_in, n_out in zip(layer_sizes[:-1], layer_sizes[1:]):\n",
    "        params['w'].append(tf.Variable(tf.random_normal([n_in, n_out], stddev=std)))\n",
    "        params['b'].append(tf.Variable(tf.zeros([n_out,])))\n",
    "    return params\n",
    "\n",
    "def neural_net(X, params):\n",
    "    h = [X]\n",
    "    for w,b in zip(params['w'][:-1], params['b'][:-1]):\n",
    "        h.append( tf.nn.relu( tf.matmul(h[-1], w) + b ) )\n",
    "    # NOTE: no output activation.  TF will take care of this in pre-defined loss functions\n",
    "    return tf.matmul(h[-1], params['w'][-1]) + params['b'][-1]"
   ]
  },
  {
   "cell_type": "markdown",
   "metadata": {},
   "source": [
    "Let's set up the network's symbolic output and cost like we did for regression before..."
   ]
  },
  {
   "cell_type": "markdown",
   "metadata": {},
   "source": [
    "### 3.  Generative Adversarial Network (GAN)\n",
    "Now let's explore [Generative Adversarial Networks (GANs)](https://arxiv.org/abs/1406.2661) with TensorFlow.  GANs are composed of two neural networks.  One network is trying to classify simulated data from the real data.  The other network is trying to simulate data in such a way that the first net will be fooled.  The result of this process is that the second net gets better and better at simulating realistic data until eventually that data is indistinguishable from the real data.  The computational pipeline is summarized in the diagram below: \n",
    "![GAN_pipeline](./graphics/GAN.png)  GANs are refered to as 'implicit generative models' as there is an implied likelihood but not a well-specified one."
   ]
  },
  {
   "cell_type": "markdown",
   "metadata": {},
   "source": [
    "Now let's create the symbolic variables again.  This time we need another one, Z, that will be the samples drawn from the generator's latent space..."
   ]
  },
  {
   "cell_type": "code",
   "execution_count": 12,
   "metadata": {
    "collapsed": false
   },
   "outputs": [],
   "source": [
    "latent_d = 50 # z ~ p(z), GAN prior\n",
    "hidden_d = 500 # num. of hidden units in NN\n",
    "\n",
    "### Make symbolic variables\n",
    "X = tf.placeholder(\"float\", [None, input_d]) # samples to discriminate\n",
    "Z = tf.placeholder(\"float\", [None, latent_d]) # samples from generator's latent space"
   ]
  },
  {
   "cell_type": "markdown",
   "metadata": {},
   "source": [
    "Define the discriminator model..."
   ]
  },
  {
   "cell_type": "markdown",
   "metadata": {},
   "source": [
    "Define the generator model..."
   ]
  },
  {
   "cell_type": "code",
   "execution_count": 13,
   "metadata": {
    "collapsed": false
   },
   "outputs": [],
   "source": [
    "generator_params = init_neural_net([latent_d, hidden_d, input_d])\n",
    "generator_out = neural_net(Z, generator_params)\n",
    "\n",
    "loss = 2*sinkhorn_loss(X, generator_out) - sinkhorn_loss(X, X) - sinkhorn_loss(generator_out, generator_out)"
   ]
  },
  {
   "cell_type": "markdown",
   "metadata": {},
   "source": [
    "Let's train..."
   ]
  },
  {
   "cell_type": "code",
   "execution_count": 14,
   "metadata": {
    "collapsed": false
   },
   "outputs": [
    {
     "data": {
      "image/png": "[encoded data removed]",
      "text/plain": [
       "<matplotlib.figure.Figure at 0x13cd9e110>"
      ]
     },
     "metadata": {},
     "output_type": "display_data"
    },
    {
     "name": "stdout",
     "output_type": "stream",
     "text": [
      "[[ nan]]\n",
      "\n",
      "[[ nan]]\n",
      "\n",
      "[[ nan]]\n",
      "\n",
      "[[ nan]]\n",
      "\n",
      "[[ nan]]\n",
      "\n",
      "[[ nan]]\n",
      "\n",
      "[[ nan]]\n",
      "\n",
      "[[ nan]]\n",
      "\n",
      "[[ nan]]\n",
      "\n",
      "[[ nan]]\n",
      "\n",
      "[[ nan]]\n",
      "\n",
      "[[ nan]]\n",
      "\n",
      "[[ nan]]\n",
      "\n",
      "[[ nan]]\n",
      "\n",
      "[[ nan]]\n",
      "\n",
      "[[ nan]]\n",
      "\n",
      "[[ nan]]\n",
      "\n",
      "[[ nan]]\n",
      "\n",
      "[[ nan]]\n",
      "\n",
      "[[ nan]]\n",
      "\n",
      "[[ nan]]\n",
      "\n",
      "[[ nan]]\n",
      "\n",
      "[[ nan]]\n",
      "\n",
      "[[ nan]]\n",
      "\n",
      "[[ nan]]\n",
      "\n",
      "[[ nan]]\n",
      "\n",
      "[[ nan]]\n",
      "\n",
      "[[ nan]]\n",
      "\n",
      "[[ nan]]\n",
      "\n",
      "[[ nan]]\n",
      "\n",
      "[[ nan]]\n",
      "\n",
      "[[ nan]]\n",
      "\n",
      "[[ nan]]\n",
      "\n",
      "[[ nan]]\n",
      "\n",
      "[[ nan]]\n",
      "\n",
      "[[ nan]]\n",
      "\n",
      "[[ nan]]\n",
      "\n",
      "[[ nan]]\n",
      "\n",
      "[[ nan]]\n",
      "\n",
      "[[ nan]]\n",
      "\n",
      "[[ nan]]\n",
      "\n",
      "[[ nan]]\n",
      "\n",
      "[[ nan]]\n",
      "\n",
      "[[ nan]]\n",
      "\n",
      "[[ nan]]\n",
      "\n",
      "[[ nan]]\n",
      "\n",
      "[[ nan]]\n",
      "\n",
      "[[ nan]]\n",
      "\n",
      "[[ nan]]\n",
      "\n",
      "[[ nan]]\n",
      "\n",
      "[[ nan]]\n",
      "\n",
      "[[ nan]]\n",
      "\n",
      "[[ nan]]\n",
      "\n",
      "[[ nan]]\n",
      "\n",
      "[[ nan]]\n",
      "\n",
      "[[ nan]]\n",
      "\n",
      "[[ nan]]\n",
      "\n",
      "[[ nan]]\n",
      "\n",
      "[[ nan]]\n",
      "\n",
      "[[ nan]]\n",
      "\n",
      "[[ nan]]\n",
      "\n",
      "[[ nan]]\n",
      "\n",
      "[[ nan]]\n",
      "\n",
      "[[ nan]]\n",
      "\n",
      "[[ nan]]\n",
      "\n",
      "[[ nan]]\n",
      "\n",
      "[[ nan]]\n",
      "\n",
      "[[ nan]]\n",
      "\n",
      "[[ nan]]\n",
      "\n",
      "[[ nan]]\n",
      "\n",
      "[[ nan]]\n",
      "\n",
      "[[ nan]]\n",
      "\n",
      "[[ nan]]\n",
      "\n",
      "[[ nan]]\n",
      "\n",
      "[[ nan]]\n",
      "\n",
      "[[ nan]]\n",
      "\n",
      "[[ nan]]\n",
      "\n",
      "[[ nan]]\n",
      "\n",
      "[[ nan]]\n",
      "\n",
      "[[ nan]]\n",
      "\n",
      "[[ nan]]\n",
      "\n",
      "[[ nan]]\n",
      "\n",
      "[[ nan]]\n",
      "\n",
      "[[ nan]]\n",
      "\n",
      "[[ nan]]\n",
      "\n",
      "[[ nan]]\n",
      "\n",
      "[[ nan]]\n",
      "\n",
      "[[ nan]]\n",
      "\n",
      "[[ nan]]\n",
      "\n",
      "[[ nan]]\n",
      "\n",
      "[[ nan]]\n",
      "\n",
      "[[ nan]]\n",
      "\n",
      "[[ nan]]\n",
      "\n",
      "[[ nan]]\n",
      "\n",
      "[[ nan]]\n",
      "\n",
      "[[ nan]]\n",
      "\n",
      "[[ nan]]\n",
      "\n",
      "[[ nan]]\n",
      "\n",
      "[[ nan]]\n",
      "\n",
      "[[ nan]]\n",
      "\n",
      "[[ nan]]\n",
      "\n",
      "[[ nan]]\n",
      "\n",
      "[[ nan]]\n",
      "\n",
      "[[ nan]]\n",
      "\n",
      "[[ nan]]\n",
      "\n",
      "[[ nan]]\n",
      "\n",
      "[[ nan]]\n",
      "\n",
      "[[ nan]]\n",
      "\n",
      "[[ nan]]\n",
      "\n",
      "[[ nan]]\n",
      "\n",
      "[[ nan]]\n",
      "\n",
      "[[ nan]]\n",
      "\n",
      "[[ nan]]\n",
      "\n",
      "[[ nan]]\n",
      "\n",
      "[[ nan]]\n",
      "\n",
      "[[ nan]]\n",
      "\n",
      "[[ nan]]\n",
      "\n",
      "[[ nan]]\n",
      "\n",
      "[[ nan]]\n",
      "\n",
      "[[ nan]]\n",
      "\n"
     ]
    }
   ],
   "source": [
    "def plot_densities(true_data, samples):\n",
    "    # clear the plot\n",
    "    display.clear_output(wait=True)\n",
    "\n",
    "    plt.scatter(true_data[:,0], true_data[:,1], s=100, color='k', marker='x', label=\"data\")\n",
    "    plt.scatter(samples[:,0], samples[:,1], s=100, color='r', marker='o', label=\"samples\")\n",
    "    plt.legend(loc=2)\n",
    "    plt.xlim([-15,15])\n",
    "    plt.ylim([-15,15])\n",
    "    plt.show()\n",
    "\n",
    "\n",
    "# Set training params\n",
    "n_epochs = 150\n",
    "learning_rate = 0.00 #1\n",
    "\n",
    "# create training ops\n",
    "train_generator = tf.train.AdamOptimizer(learning_rate).minimize(loss, var_list=generator_params['w']+generator_params['b'])\n",
    "\n",
    "generator_weights = None\n",
    "generator_biases = None\n",
    "with tf.Session() as session:\n",
    "    tf.initialize_all_variables().run()\n",
    "    for epoch_idx in xrange(n_epochs):\n",
    "        \n",
    "        loss_tracker = 0.\n",
    "        \n",
    "        # train generator\n",
    "        for idx in xrange(N/10):\n",
    "            # sample from generator again\n",
    "            prior_samples = np.random.normal(size=(10, latent_d))\n",
    "        \n",
    "            # perform update\n",
    "            _, l = session.run([train_generator, loss], feed_dict={Z: prior_samples, X: X_train[idx*10:(idx+1)*10, :]})\n",
    "            print l\n",
    "            print\n",
    "            loss_tracker += l\n",
    "        \n",
    "        # visualize progress\n",
    "        if epoch_idx%5 == 0: \n",
    "            plot_densities(X_train, session.run(generator_out, feed_dict={Z: np.random.normal(size=(N/2, latent_d))}))"
   ]
  },
  {
   "cell_type": "markdown",
   "metadata": {},
   "source": [
    "The GAN can capture one mode well but not both (at least for the settings I've tried).  This is known problem: \"A common problem with GAN framework is that the generator tends to only generate samples that are clustered in one or a few modes of the regions of high data density, instead of spanning the whole range\" [[source]](https://arxiv.org/pdf/1609.03126v2.pdf)."
   ]
  },
  {
   "cell_type": "markdown",
   "metadata": {},
   "source": [
    "### 5.  Training a GAN on MNIST\n",
    "Let's try to train a GAN on a subset of MNIST..."
   ]
  },
  {
   "cell_type": "code",
   "execution_count": null,
   "metadata": {
    "collapsed": false
   },
   "outputs": [],
   "source": [
    "from sklearn.datasets import fetch_mldata\n",
    "mnist = fetch_mldata('MNIST original')\n",
    "\n",
    "# reduce dataset and normalize to [0,1]\n",
    "random_idxs = range(mnist.data.shape[0])\n",
    "shuffle(random_idxs)\n",
    "mnist_images = mnist.data[random_idxs[:5000],:] / 255.\n",
    "\n",
    "# show the first image\n",
    "plt.imshow(np.reshape(mnist_images[0,:] * 255., (28, 28)), cmap='Greys_r')\n",
    "plt.show()"
   ]
  },
  {
   "cell_type": "markdown",
   "metadata": {},
   "source": [
    "Same symbolic variables, discriminator, and generator as before..."
   ]
  },
  {
   "cell_type": "code",
   "execution_count": null,
   "metadata": {
    "collapsed": false
   },
   "outputs": [],
   "source": [
    "N, input_d = mnist_images.shape\n",
    "latent_d = 100 # z ~ p(z), GAN prior\n",
    "hidden_d_discrim = 1000 # num. of hidden units in discrim NN\n",
    "hidden_d_gen = 500 # num. of hidden units in gen NN\n",
    "\n",
    "### Make symbolic variables\n",
    "X = tf.placeholder(\"float\", [None, input_d]) # samples to discriminate\n",
    "Z = tf.placeholder(\"float\", [None, latent_d]) # samples to discriminate\n",
    "Y = tf.placeholder(\"float\", [None, 1]) # labels"
   ]
  },
  {
   "cell_type": "code",
   "execution_count": null,
   "metadata": {
    "collapsed": false
   },
   "outputs": [],
   "source": [
    "discrim_params = init_neural_net([input_d, hidden_d_discrim, hidden_d_discrim, 1]) \n",
    "discrim_out = neural_net(X, discrim_params)\n",
    "discrim_cost = tf.reduce_mean(tf.nn.sigmoid_cross_entropy_with_logits(discrim_out, Y))"
   ]
  },
  {
   "cell_type": "code",
   "execution_count": null,
   "metadata": {
    "collapsed": false
   },
   "outputs": [],
   "source": [
    "generator_params = init_neural_net([latent_d, hidden_d_gen, input_d])\n",
    "generator_out = neural_net(Z, generator_params)\n",
    "\n",
    "# This line is new.  The images are on [0,1] so we need to apply a sigmoid to the samples.\n",
    "generator_out_squashed = tf.nn.sigmoid(generator_out)\n",
    "\n",
    "discrim_out_genUpdate = neural_net(generator_out_squashed, discrim_params)\n",
    "generator_cost = tf.reduce_mean(-tf.nn.sigmoid_cross_entropy_with_logits(discrim_out_genUpdate, Y))"
   ]
  },
  {
   "cell_type": "markdown",
   "metadata": {},
   "source": [
    "Train the GAN..."
   ]
  },
  {
   "cell_type": "code",
   "execution_count": null,
   "metadata": {
    "collapsed": false
   },
   "outputs": [],
   "source": [
    "# Make labels for training\n",
    "X_true = mnist_images\n",
    "Y_true = np.ones((N,1))\n",
    "Y_gen = np.zeros((N,1))\n",
    "Y_concat = np.vstack([Y_true, Y_gen])\n",
    "\n",
    "# Set training params\n",
    "n_epochs = 25\n",
    "n_discrim_updates = 1\n",
    "n_generator_updates = 1\n",
    "d_learning_rate = .0002\n",
    "g_learning_rate = .00005\n",
    "batch_size = 120\n",
    "n_batches = N/batch_size\n",
    "\n",
    "# create training ops\n",
    "train_discriminator = tf.train.AdamOptimizer(d_learning_rate).minimize(discrim_cost, var_list=discrim_params['w']+discrim_params['b'])\n",
    "train_generator = tf.train.AdamOptimizer(g_learning_rate).minimize(generator_cost, var_list=generator_params['w']+generator_params['b'])\n",
    "\n",
    "with tf.Session() as session:\n",
    "    tf.initialize_all_variables().run()\n",
    "    for epoch_idx in xrange(n_epochs):\n",
    "        \n",
    "        # train discriminator\n",
    "        discrim_error = 0.\n",
    "        for idx in xrange(n_discrim_updates):\n",
    "            # sample from generator\n",
    "            prior_samples = np.random.normal(size=(N, latent_d))\n",
    "            genSamples = session.run(generator_out, feed_dict={Z: prior_samples})\n",
    "        \n",
    "            # make dataset and shuffle\n",
    "            train_X = np.vstack([X_true, genSamples])\n",
    "            train_X, train_Y = shuffle_in_unison_inplace(train_X, Y_concat)\n",
    "        \n",
    "            # perform batch updates\n",
    "            epoch_discrim_error = 0.\n",
    "            for batch_idx in xrange(n_batches):\n",
    "                _, l = session.run([train_discriminator, discrim_cost], \\\n",
    "                                   feed_dict={X: train_X[batch_idx*batch_size:(batch_idx+1)*batch_size], \\\n",
    "                                              Y: train_Y[batch_idx*batch_size:(batch_idx+1)*batch_size]})\n",
    "                epoch_discrim_error += l\n",
    "            discrim_error += epoch_discrim_error/n_batches\n",
    "            \n",
    "        # print \"Epoch %d.  Discriminator error: %.3f\" %(epoch_idx, discrim_error)\n",
    "        \n",
    "        # train generator\n",
    "        for idx in xrange(n_generator_updates):\n",
    "            # sample from generator again\n",
    "            prior_samples = np.random.normal(size=(N, latent_d))\n",
    "        \n",
    "            # perform batch updates\n",
    "            for batch_idx in xrange(n_batches):\n",
    "                session.run(train_generator, feed_dict={Z: prior_samples[batch_idx*batch_size:(batch_idx+1)*batch_size], \\\n",
    "                                                        Y: Y_gen[batch_idx*batch_size:(batch_idx+1)*batch_size]})\n",
    "        \n",
    "        # visualize a sample to gauge progress\n",
    "        mnist_sample = session.run(generator_out_squashed, feed_dict={Z:np.random.normal(size=(1, latent_d))})\n",
    "        display.clear_output(wait=True)\n",
    "        plt.imshow(np.reshape(mnist_sample * 255., (28, 28)), cmap='Greys_r')\n",
    "        plt.show()"
   ]
  },
  {
   "cell_type": "markdown",
   "metadata": {},
   "source": [
    "There has been recent work on trying to understand what GANs are doing in terms of classic estimation principles.  See [Shakir Mohamed's note](https://arxiv.org/abs/1610.03483) characterizing GANs as performing ratio tests, $p(x)/q(x)$ where $p(x)$ is the true distribution and $q(x)$ is the simulated one.   "
   ]
  }
 ],
 "metadata": {
  "kernelspec": {
   "display_name": "Python 2",
   "language": "python",
   "name": "python2"
  },
  "language_info": {
   "codemirror_mode": {
    "name": "ipython",
    "version": 2
   },
   "file_extension": ".py",
   "mimetype": "text/x-python",
   "name": "python",
   "nbconvert_exporter": "python",
   "pygments_lexer": "ipython2",
   "version": "2.7.11"
  }
 },
 "nbformat": 4,
 "nbformat_minor": 0
}
